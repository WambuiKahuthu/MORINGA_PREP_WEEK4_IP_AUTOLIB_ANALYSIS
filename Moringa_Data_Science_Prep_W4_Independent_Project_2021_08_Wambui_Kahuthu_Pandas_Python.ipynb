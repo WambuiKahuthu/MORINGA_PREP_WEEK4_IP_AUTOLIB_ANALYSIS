{
  "nbformat": 4,
  "nbformat_minor": 0,
  "metadata": {
    "colab": {
      "name": "Moringa_Data_Science_Prep_W4_Independent_Project_2021_08_Wambui_Kahuthu_Pandas_Python.ipynb",
      "provenance": [],
      "collapsed_sections": [],
      "toc_visible": true,
      "authorship_tag": "ABX9TyPg3rcGLmvFc3sU5bGYQ/Gi",
      "include_colab_link": true
    },
    "kernelspec": {
      "name": "python3",
      "display_name": "Python 3"
    }
  },
  "cells": [
    {
      "cell_type": "markdown",
      "metadata": {
        "id": "view-in-github",
        "colab_type": "text"
      },
      "source": [
        "<a href=\"https://colab.research.google.com/github/WambuiKahuthu/MORINGA_WEEK4_IP_AUTOLIB_ANALYSIS/blob/main/Moringa_Data_Science_Prep_W4_Independent_Project_2021_08_Wambui_Kahuthu_Pandas_Python.ipynb\" target=\"_parent\"><img src=\"https://colab.research.google.com/assets/colab-badge.svg\" alt=\"Open In Colab\"/></a>"
      ]
    },
    {
      "cell_type": "markdown",
      "metadata": {
        "id": "aQLDmyDqHQSx"
      },
      "source": [
        "#Autolib Analysis"
      ]
    },
    {
      "cell_type": "markdown",
      "metadata": {
        "id": "tQtSp2cLHpQK"
      },
      "source": [
        "##Importing The Libraries To Be Used "
      ]
    },
    {
      "cell_type": "code",
      "metadata": {
        "id": "kNFD9ysfHPZA"
      },
      "source": [
        "#import pandas library\r\n",
        "import pandas as pd\r\n",
        "#import numpy library\r\n",
        "import numpy as np"
      ],
      "execution_count": 3,
      "outputs": []
    },
    {
      "cell_type": "markdown",
      "metadata": {
        "id": "Raf2XkeyIJPT"
      },
      "source": [
        "##Loading And Previewing Our Datasets"
      ]
    },
    {
      "cell_type": "code",
      "metadata": {
        "colab": {
          "base_uri": "https://localhost:8080/",
          "height": 441
        },
        "id": "X_FgBe-5HOTt",
        "outputId": "5a4d3066-f210-4e14-b4b4-1ac1511166e6"
      },
      "source": [
        "#store the url location of the dataset to the variable url\r\n",
        "url = 'http://bit.ly/autolib_dataset'\r\n",
        "\r\n",
        "#read the csv dataset from the assigned variable above and store the dataframe in the variable df\r\n",
        "df = pd.read_csv(url)\r\n",
        "\r\n",
        "#display some records of the dataframe\r\n",
        "df.head()\r\n"
      ],
      "execution_count": 4,
      "outputs": [
        {
          "output_type": "execute_result",
          "data": {
            "text/html": [
              "<div>\n",
              "<style scoped>\n",
              "    .dataframe tbody tr th:only-of-type {\n",
              "        vertical-align: middle;\n",
              "    }\n",
              "\n",
              "    .dataframe tbody tr th {\n",
              "        vertical-align: top;\n",
              "    }\n",
              "\n",
              "    .dataframe thead th {\n",
              "        text-align: right;\n",
              "    }\n",
              "</style>\n",
              "<table border=\"1\" class=\"dataframe\">\n",
              "  <thead>\n",
              "    <tr style=\"text-align: right;\">\n",
              "      <th></th>\n",
              "      <th>Address</th>\n",
              "      <th>Cars</th>\n",
              "      <th>Bluecar counter</th>\n",
              "      <th>Utilib counter</th>\n",
              "      <th>Utilib 1.4 counter</th>\n",
              "      <th>Charge Slots</th>\n",
              "      <th>Charging Status</th>\n",
              "      <th>City</th>\n",
              "      <th>Displayed comment</th>\n",
              "      <th>ID</th>\n",
              "      <th>Kind</th>\n",
              "      <th>Geo point</th>\n",
              "      <th>Postal code</th>\n",
              "      <th>Public name</th>\n",
              "      <th>Rental status</th>\n",
              "      <th>Scheduled at</th>\n",
              "      <th>Slots</th>\n",
              "      <th>Station type</th>\n",
              "      <th>Status</th>\n",
              "      <th>Subscription status</th>\n",
              "      <th>year</th>\n",
              "      <th>month</th>\n",
              "      <th>day</th>\n",
              "      <th>hour</th>\n",
              "      <th>minute</th>\n",
              "    </tr>\n",
              "  </thead>\n",
              "  <tbody>\n",
              "    <tr>\n",
              "      <th>0</th>\n",
              "      <td>2 Avenue de Suffren</td>\n",
              "      <td>0</td>\n",
              "      <td>0</td>\n",
              "      <td>0</td>\n",
              "      <td>0</td>\n",
              "      <td>0</td>\n",
              "      <td>nonexistent</td>\n",
              "      <td>Paris</td>\n",
              "      <td>NaN</td>\n",
              "      <td>paris-suffren-2</td>\n",
              "      <td>STATION</td>\n",
              "      <td>48.857, 2.2917</td>\n",
              "      <td>75015</td>\n",
              "      <td>Paris/Suffren/2</td>\n",
              "      <td>operational</td>\n",
              "      <td>NaN</td>\n",
              "      <td>2</td>\n",
              "      <td>station</td>\n",
              "      <td>ok</td>\n",
              "      <td>nonexistent</td>\n",
              "      <td>2018</td>\n",
              "      <td>4</td>\n",
              "      <td>8</td>\n",
              "      <td>11</td>\n",
              "      <td>43</td>\n",
              "    </tr>\n",
              "    <tr>\n",
              "      <th>1</th>\n",
              "      <td>145 Rue Raymond Losserand</td>\n",
              "      <td>6</td>\n",
              "      <td>6</td>\n",
              "      <td>0</td>\n",
              "      <td>0</td>\n",
              "      <td>0</td>\n",
              "      <td>operational</td>\n",
              "      <td>Paris</td>\n",
              "      <td>NaN</td>\n",
              "      <td>paris-raymondlosserand-145</td>\n",
              "      <td>STATION</td>\n",
              "      <td>48.83126, 2.313088</td>\n",
              "      <td>75014</td>\n",
              "      <td>Paris/Raymond Losserand/145</td>\n",
              "      <td>operational</td>\n",
              "      <td>NaN</td>\n",
              "      <td>0</td>\n",
              "      <td>station</td>\n",
              "      <td>ok</td>\n",
              "      <td>nonexistent</td>\n",
              "      <td>2018</td>\n",
              "      <td>4</td>\n",
              "      <td>6</td>\n",
              "      <td>7</td>\n",
              "      <td>24</td>\n",
              "    </tr>\n",
              "    <tr>\n",
              "      <th>2</th>\n",
              "      <td>2 Avenue John Fitzgerald Kennedy</td>\n",
              "      <td>3</td>\n",
              "      <td>3</td>\n",
              "      <td>0</td>\n",
              "      <td>2</td>\n",
              "      <td>0</td>\n",
              "      <td>operational</td>\n",
              "      <td>Le Bourget</td>\n",
              "      <td>NaN</td>\n",
              "      <td>lebourget-johnfitzgeraldkennedy-2</td>\n",
              "      <td>STATION</td>\n",
              "      <td>48.938103, 2.4286035</td>\n",
              "      <td>93350</td>\n",
              "      <td>Le Bourget/John Fitzgerald Kennedy/2</td>\n",
              "      <td>operational</td>\n",
              "      <td>NaN</td>\n",
              "      <td>1</td>\n",
              "      <td>station</td>\n",
              "      <td>ok</td>\n",
              "      <td>nonexistent</td>\n",
              "      <td>2018</td>\n",
              "      <td>4</td>\n",
              "      <td>3</td>\n",
              "      <td>20</td>\n",
              "      <td>14</td>\n",
              "    </tr>\n",
              "    <tr>\n",
              "      <th>3</th>\n",
              "      <td>51 Rue EugÃ¨ne OudinÃ©</td>\n",
              "      <td>3</td>\n",
              "      <td>3</td>\n",
              "      <td>1</td>\n",
              "      <td>0</td>\n",
              "      <td>1</td>\n",
              "      <td>operational</td>\n",
              "      <td>Paris</td>\n",
              "      <td>NaN</td>\n",
              "      <td>paris-eugeneoudine-51</td>\n",
              "      <td>STATION</td>\n",
              "      <td>48.8250327, 2.3725162</td>\n",
              "      <td>75013</td>\n",
              "      <td>Paris/EugÃ¨ne OudinÃ©/51</td>\n",
              "      <td>operational</td>\n",
              "      <td>NaN</td>\n",
              "      <td>2</td>\n",
              "      <td>station</td>\n",
              "      <td>ok</td>\n",
              "      <td>nonexistent</td>\n",
              "      <td>2018</td>\n",
              "      <td>4</td>\n",
              "      <td>4</td>\n",
              "      <td>4</td>\n",
              "      <td>37</td>\n",
              "    </tr>\n",
              "    <tr>\n",
              "      <th>4</th>\n",
              "      <td>6 avenue de la Porte de Champerret</td>\n",
              "      <td>3</td>\n",
              "      <td>3</td>\n",
              "      <td>0</td>\n",
              "      <td>0</td>\n",
              "      <td>0</td>\n",
              "      <td>nonexistent</td>\n",
              "      <td>Paris</td>\n",
              "      <td>NaN</td>\n",
              "      <td>paris-portedechamperret-6</td>\n",
              "      <td>PARKING</td>\n",
              "      <td>48.8862632, 2.2874511</td>\n",
              "      <td>75017</td>\n",
              "      <td>Paris/Porte de Champerret/6</td>\n",
              "      <td>operational</td>\n",
              "      <td>NaN</td>\n",
              "      <td>3</td>\n",
              "      <td>station</td>\n",
              "      <td>ok</td>\n",
              "      <td>nonexistent</td>\n",
              "      <td>2018</td>\n",
              "      <td>4</td>\n",
              "      <td>8</td>\n",
              "      <td>17</td>\n",
              "      <td>23</td>\n",
              "    </tr>\n",
              "  </tbody>\n",
              "</table>\n",
              "</div>"
            ],
            "text/plain": [
              "                              Address  Cars  Bluecar counter  ...  day  hour  minute\n",
              "0                 2 Avenue de Suffren     0                0  ...    8    11      43\n",
              "1           145 Rue Raymond Losserand     6                6  ...    6     7      24\n",
              "2    2 Avenue John Fitzgerald Kennedy     3                3  ...    3    20      14\n",
              "3              51 Rue EugÃ¨ne OudinÃ©     3                3  ...    4     4      37\n",
              "4  6 avenue de la Porte de Champerret     3                3  ...    8    17      23\n",
              "\n",
              "[5 rows x 25 columns]"
            ]
          },
          "metadata": {
            "tags": []
          },
          "execution_count": 4
        }
      ]
    },
    {
      "cell_type": "markdown",
      "metadata": {
        "id": "r-Oph_LRKHCT"
      },
      "source": [
        "##Viewing Information About Our Dataset"
      ]
    },
    {
      "cell_type": "code",
      "metadata": {
        "colab": {
          "base_uri": "https://localhost:8080/"
        },
        "id": "1xL_tSKUKxCb",
        "outputId": "5bdd27a0-4bfa-4387-a452-09fe2f0238f9"
      },
      "source": [
        "#process and display information about the dataframe using info() function\r\n",
        "\r\n",
        "df.info()\r\n",
        "\r\n",
        "#this displays the number of rows and columns in the dataset \r\n",
        "#in addition to dispaying the column names, the number of non-null values in each column, the data types of each column, and the count of each data type"
      ],
      "execution_count": 5,
      "outputs": [
        {
          "output_type": "stream",
          "text": [
            "<class 'pandas.core.frame.DataFrame'>\n",
            "RangeIndex: 5000 entries, 0 to 4999\n",
            "Data columns (total 25 columns):\n",
            " #   Column               Non-Null Count  Dtype \n",
            "---  ------               --------------  ----- \n",
            " 0   Address              5000 non-null   object\n",
            " 1   Cars                 5000 non-null   int64 \n",
            " 2   Bluecar counter      5000 non-null   int64 \n",
            " 3   Utilib counter       5000 non-null   int64 \n",
            " 4   Utilib 1.4 counter   5000 non-null   int64 \n",
            " 5   Charge Slots         5000 non-null   int64 \n",
            " 6   Charging Status      5000 non-null   object\n",
            " 7   City                 5000 non-null   object\n",
            " 8   Displayed comment    111 non-null    object\n",
            " 9   ID                   5000 non-null   object\n",
            " 10  Kind                 5000 non-null   object\n",
            " 11  Geo point            5000 non-null   object\n",
            " 12  Postal code          5000 non-null   int64 \n",
            " 13  Public name          5000 non-null   object\n",
            " 14  Rental status        5000 non-null   object\n",
            " 15  Scheduled at         47 non-null     object\n",
            " 16  Slots                5000 non-null   int64 \n",
            " 17  Station type         5000 non-null   object\n",
            " 18  Status               5000 non-null   object\n",
            " 19  Subscription status  5000 non-null   object\n",
            " 20  year                 5000 non-null   int64 \n",
            " 21  month                5000 non-null   int64 \n",
            " 22  day                  5000 non-null   int64 \n",
            " 23  hour                 5000 non-null   int64 \n",
            " 24  minute               5000 non-null   int64 \n",
            "dtypes: int64(12), object(13)\n",
            "memory usage: 976.7+ KB\n"
          ],
          "name": "stdout"
        }
      ]
    },
    {
      "cell_type": "markdown",
      "metadata": {
        "id": "ebLLTVRMXYa7"
      },
      "source": [
        "##Selecting Data To Be Used"
      ]
    },
    {
      "cell_type": "markdown",
      "metadata": {
        "id": "T3Ag4ai80NnU"
      },
      "source": [
        "###Ensuring uniformity"
      ]
    },
    {
      "cell_type": "markdown",
      "metadata": {
        "id": "4KAm7SqM0o5-"
      },
      "source": [
        "Before selecting the data to be used, we ensure uniformity in the column names, to make it easier for us to use them in code "
      ]
    },
    {
      "cell_type": "code",
      "metadata": {
        "colab": {
          "base_uri": "https://localhost:8080/"
        },
        "id": "wmU3ScP30RRq",
        "outputId": "2b97052b-5930-4939-c468-b7c9a8ed3c78"
      },
      "source": [
        "#Standardize the column names by removing white spaces using strip()function, lowering the cases using lower() function,\r\n",
        "#replacing spaces with underscore and removing brackets using replace() function\r\n",
        "df.columns = df.columns.str.strip().str.lower().str.replace(' ', '_').str.replace('(', '').str.replace(')', '').str.replace('.', '_')\r\n",
        "\r\n",
        "#display the standardized column names  \r\n",
        "df.columns"
      ],
      "execution_count": 6,
      "outputs": [
        {
          "output_type": "execute_result",
          "data": {
            "text/plain": [
              "Index(['address', 'cars', 'bluecar_counter', 'utilib_counter',\n",
              "       'utilib_1_4_counter', 'charge_slots', 'charging_status', 'city',\n",
              "       'displayed_comment', 'id', 'kind', 'geo_point', 'postal_code',\n",
              "       'public_name', 'rental_status', 'scheduled_at', 'slots', 'station_type',\n",
              "       'status', 'subscription_status', 'year', 'month', 'day', 'hour',\n",
              "       'minute'],\n",
              "      dtype='object')"
            ]
          },
          "metadata": {
            "tags": []
          },
          "execution_count": 6
        }
      ]
    },
    {
      "cell_type": "markdown",
      "metadata": {
        "id": "JpT1RpizM3le"
      },
      "source": [
        "###Dropping irrelevant rows"
      ]
    },
    {
      "cell_type": "markdown",
      "metadata": {
        "id": "2HzwL5uBNBZ6"
      },
      "source": [
        "Since we are examining care usage in the various stations, it is sensible to remove records in which the \"rental_status\" is not \"operational\" since there is no car usage in those cases."
      ]
    },
    {
      "cell_type": "code",
      "metadata": {
        "colab": {
          "base_uri": "https://localhost:8080/"
        },
        "id": "z8urxbImKDUx",
        "outputId": "3ceb5acc-3243-41d1-e761-8721e0854e9d"
      },
      "source": [
        "#drop rows in which \"rental_status\" is not \"operational\" and assign new variable\r\n",
        "df_dropped = df.drop(df[(df.rental_status !='operational')].index)\r\n",
        "\r\n",
        "#display the shape of the dataframe with dropped rows \r\n",
        "df_dropped.shape"
      ],
      "execution_count": 7,
      "outputs": [
        {
          "output_type": "execute_result",
          "data": {
            "text/plain": [
              "(4618, 25)"
            ]
          },
          "metadata": {
            "tags": []
          },
          "execution_count": 7
        }
      ]
    },
    {
      "cell_type": "markdown",
      "metadata": {
        "id": "yEmlg4yFXlzS"
      },
      "source": [
        "###Dropping irrelevant columns"
      ]
    },
    {
      "cell_type": "code",
      "metadata": {
        "colab": {
          "base_uri": "https://localhost:8080/",
          "height": 336
        },
        "id": "TBBgsJ3NXkxr",
        "outputId": "8139fad9-3aa3-46d7-a4c3-1845c6db58c8"
      },
      "source": [
        "#drop columns that are irrelevant to the study\r\n",
        "df_dropped.drop(['id','rental_status', 'charge_slots', 'charging_status', 'displayed_comment', 'kind', 'geo_point', 'public_name', \r\n",
        "         'scheduled_at', 'slots', 'station_type', 'status', 'subscription_status'],axis =1, inplace=True)\r\n",
        "#display some records of the dataframe to see changes \r\n",
        "df_dropped.head()"
      ],
      "execution_count": 8,
      "outputs": [
        {
          "output_type": "execute_result",
          "data": {
            "text/html": [
              "<div>\n",
              "<style scoped>\n",
              "    .dataframe tbody tr th:only-of-type {\n",
              "        vertical-align: middle;\n",
              "    }\n",
              "\n",
              "    .dataframe tbody tr th {\n",
              "        vertical-align: top;\n",
              "    }\n",
              "\n",
              "    .dataframe thead th {\n",
              "        text-align: right;\n",
              "    }\n",
              "</style>\n",
              "<table border=\"1\" class=\"dataframe\">\n",
              "  <thead>\n",
              "    <tr style=\"text-align: right;\">\n",
              "      <th></th>\n",
              "      <th>address</th>\n",
              "      <th>cars</th>\n",
              "      <th>bluecar_counter</th>\n",
              "      <th>utilib_counter</th>\n",
              "      <th>utilib_1_4_counter</th>\n",
              "      <th>city</th>\n",
              "      <th>postal_code</th>\n",
              "      <th>year</th>\n",
              "      <th>month</th>\n",
              "      <th>day</th>\n",
              "      <th>hour</th>\n",
              "      <th>minute</th>\n",
              "    </tr>\n",
              "  </thead>\n",
              "  <tbody>\n",
              "    <tr>\n",
              "      <th>0</th>\n",
              "      <td>2 Avenue de Suffren</td>\n",
              "      <td>0</td>\n",
              "      <td>0</td>\n",
              "      <td>0</td>\n",
              "      <td>0</td>\n",
              "      <td>Paris</td>\n",
              "      <td>75015</td>\n",
              "      <td>2018</td>\n",
              "      <td>4</td>\n",
              "      <td>8</td>\n",
              "      <td>11</td>\n",
              "      <td>43</td>\n",
              "    </tr>\n",
              "    <tr>\n",
              "      <th>1</th>\n",
              "      <td>145 Rue Raymond Losserand</td>\n",
              "      <td>6</td>\n",
              "      <td>6</td>\n",
              "      <td>0</td>\n",
              "      <td>0</td>\n",
              "      <td>Paris</td>\n",
              "      <td>75014</td>\n",
              "      <td>2018</td>\n",
              "      <td>4</td>\n",
              "      <td>6</td>\n",
              "      <td>7</td>\n",
              "      <td>24</td>\n",
              "    </tr>\n",
              "    <tr>\n",
              "      <th>2</th>\n",
              "      <td>2 Avenue John Fitzgerald Kennedy</td>\n",
              "      <td>3</td>\n",
              "      <td>3</td>\n",
              "      <td>0</td>\n",
              "      <td>2</td>\n",
              "      <td>Le Bourget</td>\n",
              "      <td>93350</td>\n",
              "      <td>2018</td>\n",
              "      <td>4</td>\n",
              "      <td>3</td>\n",
              "      <td>20</td>\n",
              "      <td>14</td>\n",
              "    </tr>\n",
              "    <tr>\n",
              "      <th>3</th>\n",
              "      <td>51 Rue EugÃ¨ne OudinÃ©</td>\n",
              "      <td>3</td>\n",
              "      <td>3</td>\n",
              "      <td>1</td>\n",
              "      <td>0</td>\n",
              "      <td>Paris</td>\n",
              "      <td>75013</td>\n",
              "      <td>2018</td>\n",
              "      <td>4</td>\n",
              "      <td>4</td>\n",
              "      <td>4</td>\n",
              "      <td>37</td>\n",
              "    </tr>\n",
              "    <tr>\n",
              "      <th>4</th>\n",
              "      <td>6 avenue de la Porte de Champerret</td>\n",
              "      <td>3</td>\n",
              "      <td>3</td>\n",
              "      <td>0</td>\n",
              "      <td>0</td>\n",
              "      <td>Paris</td>\n",
              "      <td>75017</td>\n",
              "      <td>2018</td>\n",
              "      <td>4</td>\n",
              "      <td>8</td>\n",
              "      <td>17</td>\n",
              "      <td>23</td>\n",
              "    </tr>\n",
              "  </tbody>\n",
              "</table>\n",
              "</div>"
            ],
            "text/plain": [
              "                              address  cars  bluecar_counter  ...  day  hour minute\n",
              "0                 2 Avenue de Suffren     0                0  ...    8    11     43\n",
              "1           145 Rue Raymond Losserand     6                6  ...    6     7     24\n",
              "2    2 Avenue John Fitzgerald Kennedy     3                3  ...    3    20     14\n",
              "3              51 Rue EugÃ¨ne OudinÃ©     3                3  ...    4     4     37\n",
              "4  6 avenue de la Porte de Champerret     3                3  ...    8    17     23\n",
              "\n",
              "[5 rows x 12 columns]"
            ]
          },
          "metadata": {
            "tags": []
          },
          "execution_count": 8
        }
      ]
    },
    {
      "cell_type": "code",
      "metadata": {
        "colab": {
          "base_uri": "https://localhost:8080/"
        },
        "id": "PZy7qcTP4mYw",
        "outputId": "015babd3-eacc-4676-fd5e-75016c17d297"
      },
      "source": [
        "#display shape of the the dataframe with dropped rows and columns\r\n",
        "df_dropped.shape"
      ],
      "execution_count": 9,
      "outputs": [
        {
          "output_type": "execute_result",
          "data": {
            "text/plain": [
              "(4618, 12)"
            ]
          },
          "metadata": {
            "tags": []
          },
          "execution_count": 9
        }
      ]
    },
    {
      "cell_type": "markdown",
      "metadata": {
        "id": "dFmTUf6gQgiU"
      },
      "source": [
        "##Cleaning The Dataset"
      ]
    },
    {
      "cell_type": "markdown",
      "metadata": {
        "id": "G5FiuQdp6SjY"
      },
      "source": [
        "###Ensuring validity"
      ]
    },
    {
      "cell_type": "markdown",
      "metadata": {
        "id": "fthF8WEfAc8-"
      },
      "source": [
        "Some values in the \"address\" and \"city\" columns contain characters that make them invalid. We will remove those characters and replace them with appropriate letters.\r\n",
        "NB: These characters and their replacements were searched for manually"
      ]
    },
    {
      "cell_type": "code",
      "metadata": {
        "colab": {
          "base_uri": "https://localhost:8080/",
          "height": 738
        },
        "id": "NzLXdnnIAwfv",
        "outputId": "de28d5c9-8bf0-4978-d935-18bff9c3f1ba"
      },
      "source": [
        "#replace the special characters with appropriate letters using replace() function and assign new variable\r\n",
        "df_valid =df_dropped.replace({\"Ã©\":'e', 'Ã®':'i', \"Ã¨\":'e', 'Ã´':'o', 'Ã¢':'a', 'Ã':'E', 'Ã»':'u', 'Ã¼':'u', 'Å':'oe', 'Ã§':'c', 'Ã«':'e', 'Ì':'', 'â':\"'\", 'Ì':'', 'Ã¯':'i', 'Ã':'I', \"Ã\":'a'}, regex=True).astype(object)\r\n",
        "\r\n",
        "#display the dataframe to see changes\r\n",
        "df_valid"
      ],
      "execution_count": 10,
      "outputs": [
        {
          "output_type": "execute_result",
          "data": {
            "text/html": [
              "<div>\n",
              "<style scoped>\n",
              "    .dataframe tbody tr th:only-of-type {\n",
              "        vertical-align: middle;\n",
              "    }\n",
              "\n",
              "    .dataframe tbody tr th {\n",
              "        vertical-align: top;\n",
              "    }\n",
              "\n",
              "    .dataframe thead th {\n",
              "        text-align: right;\n",
              "    }\n",
              "</style>\n",
              "<table border=\"1\" class=\"dataframe\">\n",
              "  <thead>\n",
              "    <tr style=\"text-align: right;\">\n",
              "      <th></th>\n",
              "      <th>address</th>\n",
              "      <th>cars</th>\n",
              "      <th>bluecar_counter</th>\n",
              "      <th>utilib_counter</th>\n",
              "      <th>utilib_1_4_counter</th>\n",
              "      <th>city</th>\n",
              "      <th>postal_code</th>\n",
              "      <th>year</th>\n",
              "      <th>month</th>\n",
              "      <th>day</th>\n",
              "      <th>hour</th>\n",
              "      <th>minute</th>\n",
              "    </tr>\n",
              "  </thead>\n",
              "  <tbody>\n",
              "    <tr>\n",
              "      <th>0</th>\n",
              "      <td>2 Avenue de Suffren</td>\n",
              "      <td>0</td>\n",
              "      <td>0</td>\n",
              "      <td>0</td>\n",
              "      <td>0</td>\n",
              "      <td>Paris</td>\n",
              "      <td>75015</td>\n",
              "      <td>2018</td>\n",
              "      <td>4</td>\n",
              "      <td>8</td>\n",
              "      <td>11</td>\n",
              "      <td>43</td>\n",
              "    </tr>\n",
              "    <tr>\n",
              "      <th>1</th>\n",
              "      <td>145 Rue Raymond Losserand</td>\n",
              "      <td>6</td>\n",
              "      <td>6</td>\n",
              "      <td>0</td>\n",
              "      <td>0</td>\n",
              "      <td>Paris</td>\n",
              "      <td>75014</td>\n",
              "      <td>2018</td>\n",
              "      <td>4</td>\n",
              "      <td>6</td>\n",
              "      <td>7</td>\n",
              "      <td>24</td>\n",
              "    </tr>\n",
              "    <tr>\n",
              "      <th>2</th>\n",
              "      <td>2 Avenue John Fitzgerald Kennedy</td>\n",
              "      <td>3</td>\n",
              "      <td>3</td>\n",
              "      <td>0</td>\n",
              "      <td>2</td>\n",
              "      <td>Le Bourget</td>\n",
              "      <td>93350</td>\n",
              "      <td>2018</td>\n",
              "      <td>4</td>\n",
              "      <td>3</td>\n",
              "      <td>20</td>\n",
              "      <td>14</td>\n",
              "    </tr>\n",
              "    <tr>\n",
              "      <th>3</th>\n",
              "      <td>51 Rue Eugene Oudine</td>\n",
              "      <td>3</td>\n",
              "      <td>3</td>\n",
              "      <td>1</td>\n",
              "      <td>0</td>\n",
              "      <td>Paris</td>\n",
              "      <td>75013</td>\n",
              "      <td>2018</td>\n",
              "      <td>4</td>\n",
              "      <td>4</td>\n",
              "      <td>4</td>\n",
              "      <td>37</td>\n",
              "    </tr>\n",
              "    <tr>\n",
              "      <th>4</th>\n",
              "      <td>6 avenue de la Porte de Champerret</td>\n",
              "      <td>3</td>\n",
              "      <td>3</td>\n",
              "      <td>0</td>\n",
              "      <td>0</td>\n",
              "      <td>Paris</td>\n",
              "      <td>75017</td>\n",
              "      <td>2018</td>\n",
              "      <td>4</td>\n",
              "      <td>8</td>\n",
              "      <td>17</td>\n",
              "      <td>23</td>\n",
              "    </tr>\n",
              "    <tr>\n",
              "      <th>...</th>\n",
              "      <td>...</td>\n",
              "      <td>...</td>\n",
              "      <td>...</td>\n",
              "      <td>...</td>\n",
              "      <td>...</td>\n",
              "      <td>...</td>\n",
              "      <td>...</td>\n",
              "      <td>...</td>\n",
              "      <td>...</td>\n",
              "      <td>...</td>\n",
              "      <td>...</td>\n",
              "      <td>...</td>\n",
              "    </tr>\n",
              "    <tr>\n",
              "      <th>4995</th>\n",
              "      <td>8 avenue Menelotte</td>\n",
              "      <td>2</td>\n",
              "      <td>2</td>\n",
              "      <td>0</td>\n",
              "      <td>0</td>\n",
              "      <td>Colombes</td>\n",
              "      <td>92700</td>\n",
              "      <td>2018</td>\n",
              "      <td>4</td>\n",
              "      <td>6</td>\n",
              "      <td>11</td>\n",
              "      <td>26</td>\n",
              "    </tr>\n",
              "    <tr>\n",
              "      <th>4996</th>\n",
              "      <td>37 rue de Dantzig</td>\n",
              "      <td>4</td>\n",
              "      <td>4</td>\n",
              "      <td>0</td>\n",
              "      <td>0</td>\n",
              "      <td>Paris</td>\n",
              "      <td>75015</td>\n",
              "      <td>2018</td>\n",
              "      <td>4</td>\n",
              "      <td>4</td>\n",
              "      <td>16</td>\n",
              "      <td>56</td>\n",
              "    </tr>\n",
              "    <tr>\n",
              "      <th>4997</th>\n",
              "      <td>142 rue du Bac</td>\n",
              "      <td>1</td>\n",
              "      <td>1</td>\n",
              "      <td>0</td>\n",
              "      <td>0</td>\n",
              "      <td>Paris</td>\n",
              "      <td>75007</td>\n",
              "      <td>2018</td>\n",
              "      <td>4</td>\n",
              "      <td>1</td>\n",
              "      <td>7</td>\n",
              "      <td>1</td>\n",
              "    </tr>\n",
              "    <tr>\n",
              "      <th>4998</th>\n",
              "      <td>2 avenue du Val de Fontenay</td>\n",
              "      <td>2</td>\n",
              "      <td>2</td>\n",
              "      <td>0</td>\n",
              "      <td>0</td>\n",
              "      <td>Fontenay-Sous-Bois</td>\n",
              "      <td>94120</td>\n",
              "      <td>2018</td>\n",
              "      <td>4</td>\n",
              "      <td>4</td>\n",
              "      <td>17</td>\n",
              "      <td>27</td>\n",
              "    </tr>\n",
              "    <tr>\n",
              "      <th>4999</th>\n",
              "      <td>5 Rue Henry Brisson</td>\n",
              "      <td>4</td>\n",
              "      <td>4</td>\n",
              "      <td>0</td>\n",
              "      <td>0</td>\n",
              "      <td>Paris</td>\n",
              "      <td>75018</td>\n",
              "      <td>2018</td>\n",
              "      <td>4</td>\n",
              "      <td>8</td>\n",
              "      <td>10</td>\n",
              "      <td>2</td>\n",
              "    </tr>\n",
              "  </tbody>\n",
              "</table>\n",
              "<p>4618 rows × 12 columns</p>\n",
              "</div>"
            ],
            "text/plain": [
              "                                 address cars bluecar_counter  ... day hour minute\n",
              "0                    2 Avenue de Suffren    0               0  ...   8   11     43\n",
              "1              145 Rue Raymond Losserand    6               6  ...   6    7     24\n",
              "2       2 Avenue John Fitzgerald Kennedy    3               3  ...   3   20     14\n",
              "3                   51 Rue Eugene Oudine    3               3  ...   4    4     37\n",
              "4     6 avenue de la Porte de Champerret    3               3  ...   8   17     23\n",
              "...                                  ...  ...             ...  ...  ..  ...    ...\n",
              "4995                  8 avenue Menelotte    2               2  ...   6   11     26\n",
              "4996                   37 rue de Dantzig    4               4  ...   4   16     56\n",
              "4997                      142 rue du Bac    1               1  ...   1    7      1\n",
              "4998         2 avenue du Val de Fontenay    2               2  ...   4   17     27\n",
              "4999                 5 Rue Henry Brisson    4               4  ...   8   10      2\n",
              "\n",
              "[4618 rows x 12 columns]"
            ]
          },
          "metadata": {
            "tags": []
          },
          "execution_count": 10
        }
      ]
    },
    {
      "cell_type": "code",
      "metadata": {
        "colab": {
          "base_uri": "https://localhost:8080/",
          "height": 200
        },
        "id": "CWydvrzzQndj",
        "outputId": "8113ce4d-af48-4ade-8078-013bbbb20e16"
      },
      "source": [
        "#create a function that removes white spaces, converts string values to upper case and replaces double spaces with single space\r\n",
        "def clean_records(x):\r\n",
        "  if isinstance(x, str):\r\n",
        "    return x.strip().upper().replace('  ', ' ')\r\n",
        "  else:\r\n",
        "    return x\r\n",
        "\r\n",
        "#apply the function to the dataframe and assign dataframe to new variable\r\n",
        "df_valid1 = df_valid.applymap(clean_records)\r\n",
        "\r\n",
        "#display a few records to see changes\r\n",
        "df_valid1.head()"
      ],
      "execution_count": 11,
      "outputs": [
        {
          "output_type": "execute_result",
          "data": {
            "text/html": [
              "<div>\n",
              "<style scoped>\n",
              "    .dataframe tbody tr th:only-of-type {\n",
              "        vertical-align: middle;\n",
              "    }\n",
              "\n",
              "    .dataframe tbody tr th {\n",
              "        vertical-align: top;\n",
              "    }\n",
              "\n",
              "    .dataframe thead th {\n",
              "        text-align: right;\n",
              "    }\n",
              "</style>\n",
              "<table border=\"1\" class=\"dataframe\">\n",
              "  <thead>\n",
              "    <tr style=\"text-align: right;\">\n",
              "      <th></th>\n",
              "      <th>address</th>\n",
              "      <th>cars</th>\n",
              "      <th>bluecar_counter</th>\n",
              "      <th>utilib_counter</th>\n",
              "      <th>utilib_1_4_counter</th>\n",
              "      <th>city</th>\n",
              "      <th>postal_code</th>\n",
              "      <th>year</th>\n",
              "      <th>month</th>\n",
              "      <th>day</th>\n",
              "      <th>hour</th>\n",
              "      <th>minute</th>\n",
              "    </tr>\n",
              "  </thead>\n",
              "  <tbody>\n",
              "    <tr>\n",
              "      <th>0</th>\n",
              "      <td>2 AVENUE DE SUFFREN</td>\n",
              "      <td>0</td>\n",
              "      <td>0</td>\n",
              "      <td>0</td>\n",
              "      <td>0</td>\n",
              "      <td>PARIS</td>\n",
              "      <td>75015</td>\n",
              "      <td>2018</td>\n",
              "      <td>4</td>\n",
              "      <td>8</td>\n",
              "      <td>11</td>\n",
              "      <td>43</td>\n",
              "    </tr>\n",
              "    <tr>\n",
              "      <th>1</th>\n",
              "      <td>145 RUE RAYMOND LOSSERAND</td>\n",
              "      <td>6</td>\n",
              "      <td>6</td>\n",
              "      <td>0</td>\n",
              "      <td>0</td>\n",
              "      <td>PARIS</td>\n",
              "      <td>75014</td>\n",
              "      <td>2018</td>\n",
              "      <td>4</td>\n",
              "      <td>6</td>\n",
              "      <td>7</td>\n",
              "      <td>24</td>\n",
              "    </tr>\n",
              "    <tr>\n",
              "      <th>2</th>\n",
              "      <td>2 AVENUE JOHN FITZGERALD KENNEDY</td>\n",
              "      <td>3</td>\n",
              "      <td>3</td>\n",
              "      <td>0</td>\n",
              "      <td>2</td>\n",
              "      <td>LE BOURGET</td>\n",
              "      <td>93350</td>\n",
              "      <td>2018</td>\n",
              "      <td>4</td>\n",
              "      <td>3</td>\n",
              "      <td>20</td>\n",
              "      <td>14</td>\n",
              "    </tr>\n",
              "    <tr>\n",
              "      <th>3</th>\n",
              "      <td>51 RUE EUGENE OUDINE</td>\n",
              "      <td>3</td>\n",
              "      <td>3</td>\n",
              "      <td>1</td>\n",
              "      <td>0</td>\n",
              "      <td>PARIS</td>\n",
              "      <td>75013</td>\n",
              "      <td>2018</td>\n",
              "      <td>4</td>\n",
              "      <td>4</td>\n",
              "      <td>4</td>\n",
              "      <td>37</td>\n",
              "    </tr>\n",
              "    <tr>\n",
              "      <th>4</th>\n",
              "      <td>6 AVENUE DE LA PORTE DE CHAMPERRET</td>\n",
              "      <td>3</td>\n",
              "      <td>3</td>\n",
              "      <td>0</td>\n",
              "      <td>0</td>\n",
              "      <td>PARIS</td>\n",
              "      <td>75017</td>\n",
              "      <td>2018</td>\n",
              "      <td>4</td>\n",
              "      <td>8</td>\n",
              "      <td>17</td>\n",
              "      <td>23</td>\n",
              "    </tr>\n",
              "  </tbody>\n",
              "</table>\n",
              "</div>"
            ],
            "text/plain": [
              "                              address  cars  bluecar_counter  ...  day  hour minute\n",
              "0                 2 AVENUE DE SUFFREN     0                0  ...    8    11     43\n",
              "1           145 RUE RAYMOND LOSSERAND     6                6  ...    6     7     24\n",
              "2    2 AVENUE JOHN FITZGERALD KENNEDY     3                3  ...    3    20     14\n",
              "3                51 RUE EUGENE OUDINE     3                3  ...    4     4     37\n",
              "4  6 AVENUE DE LA PORTE DE CHAMPERRET     3                3  ...    8    17     23\n",
              "\n",
              "[5 rows x 12 columns]"
            ]
          },
          "metadata": {
            "tags": []
          },
          "execution_count": 11
        }
      ]
    },
    {
      "cell_type": "markdown",
      "metadata": {
        "id": "3i6uTZBbZscz"
      },
      "source": [
        "###Ensuring accuracy"
      ]
    },
    {
      "cell_type": "markdown",
      "metadata": {
        "id": "UeM2AOnN6F4q"
      },
      "source": [
        "####accuracy in bluecar_counter"
      ]
    },
    {
      "cell_type": "markdown",
      "metadata": {
        "id": "M4O7SCRTDgJ3"
      },
      "source": [
        "The number of bluecars in each station should be equal to or more than 0 and equal to or less than 7"
      ]
    },
    {
      "cell_type": "code",
      "metadata": {
        "id": "k-aIGppK8Q__",
        "colab": {
          "base_uri": "https://localhost:8080/"
        },
        "outputId": "9163fd47-d329-44fb-bf67-56a85fad11ef"
      },
      "source": [
        "#find records in which \"bluecar_counter\" is less than 0 or more than 7\r\n",
        "df_inaccurate_bc = df_valid1.loc[(df_valid1['bluecar_counter'] < 0) | (df_valid1['bluecar_counter'] > 7), 'bluecar_counter']\r\n",
        "#find number of records in which \"bluecar_counter\" is less than 0 or more than 7\r\n",
        "df_inaccurate_bc.count()"
      ],
      "execution_count": 12,
      "outputs": [
        {
          "output_type": "execute_result",
          "data": {
            "text/plain": [
              "0"
            ]
          },
          "metadata": {
            "tags": []
          },
          "execution_count": 12
        }
      ]
    },
    {
      "cell_type": "markdown",
      "metadata": {
        "id": "bvfYI68O-ZwQ"
      },
      "source": [
        "####accuracy in utillib_counter"
      ]
    },
    {
      "cell_type": "markdown",
      "metadata": {
        "id": "E7JqCkqYDxc4"
      },
      "source": [
        "The number of utilibs in each station should be equal to or more than 0 and equal to or less than 4"
      ]
    },
    {
      "cell_type": "code",
      "metadata": {
        "colab": {
          "base_uri": "https://localhost:8080/"
        },
        "id": "qziCkHe8-Urm",
        "outputId": "cf2a503d-bad0-42c3-90dd-76f95866c680"
      },
      "source": [
        "#find records in which \"utilib_counter\" is less than 0 or more than 4\r\n",
        "df_inaccurate_u = df_valid1.loc[(df_valid1['utilib_counter'] < 0) | (df_valid1['utilib_counter'] > 4), 'bluecar_counter']\r\n",
        "#find number of records in which \"utilib_counter\" is less than 0 or more than 4\r\n",
        "df_inaccurate_u.count()"
      ],
      "execution_count": 13,
      "outputs": [
        {
          "output_type": "execute_result",
          "data": {
            "text/plain": [
              "0"
            ]
          },
          "metadata": {
            "tags": []
          },
          "execution_count": 13
        }
      ]
    },
    {
      "cell_type": "markdown",
      "metadata": {
        "id": "zz69dJDZBl1s"
      },
      "source": [
        "####accuracy in utilib_1_4_counter "
      ]
    },
    {
      "cell_type": "markdown",
      "metadata": {
        "id": "Hn6bBMXZFG1E"
      },
      "source": [
        "The number of utilib 1.4s should be equal to or more than 0 and equal to or less than 5"
      ]
    },
    {
      "cell_type": "code",
      "metadata": {
        "colab": {
          "base_uri": "https://localhost:8080/"
        },
        "id": "RMxwe7mXBv1f",
        "outputId": "581efa60-6e2c-4c0f-9f47-abdc77855243"
      },
      "source": [
        "#find records in which \"utilib_1.4_counter\" is less than 0 or more than 5\r\n",
        "df_inaccurate_u14 = df_valid1.loc[(df_valid1['utilib_1_4_counter'] < 0) | (df_valid1['utilib_1_4_counter'] > 5), 'utilib_counter']\r\n",
        "#find number of records in which \"utilib_1.4_counter\" is less than 0 or more than 5\r\n",
        "df_inaccurate_u14.count()"
      ],
      "execution_count": 14,
      "outputs": [
        {
          "output_type": "execute_result",
          "data": {
            "text/plain": [
              "0"
            ]
          },
          "metadata": {
            "tags": []
          },
          "execution_count": 14
        }
      ]
    },
    {
      "cell_type": "markdown",
      "metadata": {
        "id": "hJXk1XUmCRa3"
      },
      "source": [
        "####accuracy in year"
      ]
    },
    {
      "cell_type": "markdown",
      "metadata": {
        "id": "orbyK6rBJcCy"
      },
      "source": [
        "The year should be 2018"
      ]
    },
    {
      "cell_type": "code",
      "metadata": {
        "colab": {
          "base_uri": "https://localhost:8080/"
        },
        "id": "gmlZK6SMCQ5Z",
        "outputId": "b13c87fc-dfb2-431b-aa00-748f6a706149"
      },
      "source": [
        "#find records in which \"year\" is not 2018\r\n",
        "df_inaccurate_year = df_valid1.loc[df_valid1['year'] != 2018, 'year']\r\n",
        "#find number of records in which year is not 2018\r\n",
        "df_inaccurate_year.count()"
      ],
      "execution_count": 15,
      "outputs": [
        {
          "output_type": "execute_result",
          "data": {
            "text/plain": [
              "0"
            ]
          },
          "metadata": {
            "tags": []
          },
          "execution_count": 15
        }
      ]
    },
    {
      "cell_type": "markdown",
      "metadata": {
        "id": "QRkmJqJNFovO"
      },
      "source": [
        "####accuracy in month "
      ]
    },
    {
      "cell_type": "markdown",
      "metadata": {
        "id": "0b9oVsqKFnuD"
      },
      "source": [
        "The month should be April (4)"
      ]
    },
    {
      "cell_type": "code",
      "metadata": {
        "colab": {
          "base_uri": "https://localhost:8080/"
        },
        "id": "57iyPkxNGAxQ",
        "outputId": "bbac1271-785c-401d-b0d1-deca9f5c98c7"
      },
      "source": [
        "#find records in which \"month\" is not 4\r\n",
        "df_inaccurate_month = df_valid1.loc[df_valid1['month'] != 4, 'month']\r\n",
        "#find number of records in which \"month\" is not 4\r\n",
        "df_inaccurate_month.count()"
      ],
      "execution_count": 16,
      "outputs": [
        {
          "output_type": "execute_result",
          "data": {
            "text/plain": [
              "0"
            ]
          },
          "metadata": {
            "tags": []
          },
          "execution_count": 16
        }
      ]
    },
    {
      "cell_type": "markdown",
      "metadata": {
        "id": "s0rZyZcYGzzy"
      },
      "source": [
        "since all entries are accurate we move to the next step of ensuring completeness"
      ]
    },
    {
      "cell_type": "markdown",
      "metadata": {
        "id": "3OWzx-RVaXl3"
      },
      "source": [
        "###Ensuring completeness"
      ]
    },
    {
      "cell_type": "code",
      "metadata": {
        "colab": {
          "base_uri": "https://localhost:8080/"
        },
        "id": "NHc-hnolae9s",
        "outputId": "138eacec-a8fc-4932-d5e9-e9f68955fa28"
      },
      "source": [
        "#compute the total sum of null values in dataset\r\n",
        "df_valid1.isnull().sum().sum()"
      ],
      "execution_count": 17,
      "outputs": [
        {
          "output_type": "execute_result",
          "data": {
            "text/plain": [
              "0"
            ]
          },
          "metadata": {
            "tags": []
          },
          "execution_count": 17
        }
      ]
    },
    {
      "cell_type": "markdown",
      "metadata": {
        "id": "r3htIY2RarRH"
      },
      "source": [
        "since the dataset contains no null values we move to the next step of ensuring consistency"
      ]
    },
    {
      "cell_type": "markdown",
      "metadata": {
        "id": "OgBPnfeGbQdd"
      },
      "source": [
        "###Ensuring consistency"
      ]
    },
    {
      "cell_type": "code",
      "metadata": {
        "colab": {
          "base_uri": "https://localhost:8080/"
        },
        "id": "AQ-9a1AGbZxY",
        "outputId": "45063ea9-6052-401c-9ae1-f65783bd4b4c"
      },
      "source": [
        "#compute sum of duplicated records and dispay results\r\n",
        "df_valid1.duplicated().sum()"
      ],
      "execution_count": 18,
      "outputs": [
        {
          "output_type": "execute_result",
          "data": {
            "text/plain": [
              "0"
            ]
          },
          "metadata": {
            "tags": []
          },
          "execution_count": 18
        }
      ]
    },
    {
      "cell_type": "markdown",
      "metadata": {
        "id": "9SZsEv7fdO2f"
      },
      "source": [
        "since no record is duplicated we move to the stage of finding outliers"
      ]
    },
    {
      "cell_type": "markdown",
      "metadata": {
        "id": "XoeIimC_a85T"
      },
      "source": [
        "##Finding Outliers"
      ]
    },
    {
      "cell_type": "code",
      "metadata": {
        "colab": {
          "base_uri": "https://localhost:8080/",
          "height": 284
        },
        "id": "U1Hd1fGxYyDQ",
        "outputId": "90621832-5149-4726-fc9f-f5a016a7ceec"
      },
      "source": [
        "#create a box plot of the variables bluecar_counter, utilib_counter and utilib_1_4_counter\r\n",
        "df_valid1.boxplot(column =['bluecar_counter', 'utilib_counter', 'utilib_1_4_counter'], grid = False) "
      ],
      "execution_count": 19,
      "outputs": [
        {
          "output_type": "execute_result",
          "data": {
            "text/plain": [
              "<matplotlib.axes._subplots.AxesSubplot at 0x7f96187d6b38>"
            ]
          },
          "metadata": {
            "tags": []
          },
          "execution_count": 19
        },
        {
          "output_type": "display_data",
          "data": {
            "image/png": "[encoded data removed]",
            "text/plain": [
              "<Figure size 432x288 with 1 Axes>"
            ]
          },
          "metadata": {
            "tags": [],
            "needs_background": "light"
          }
        }
      ]
    },
    {
      "cell_type": "markdown",
      "metadata": {
        "id": "u872nKi4bERc"
      },
      "source": [
        "The outliers the in the utilib and utilib 1.4 columns are as a result of minimal car usage and removing them will lead to invalidate our results; therefore, we keep the outliers in this dataset"
      ]
    },
    {
      "cell_type": "markdown",
      "metadata": {
        "id": "umNsyx6ZdeFC"
      },
      "source": [
        "##Constructing Data"
      ]
    },
    {
      "cell_type": "markdown",
      "metadata": {
        "id": "1jn6L6NaIENB"
      },
      "source": [
        "We will need to compute the total number of cars in a station at any given time by replacing the redundancy in \"cars\" column with sum of \"bluecars\", \"utilib\", and \"utilib 1.4\". We will also need to construct a \"date\" column to make it easier for us to sort the dataframe "
      ]
    },
    {
      "cell_type": "markdown",
      "metadata": {
        "id": "E5fne1-4NLQ0"
      },
      "source": [
        "###Changing value of \"cars\""
      ]
    },
    {
      "cell_type": "code",
      "metadata": {
        "colab": {
          "base_uri": "https://localhost:8080/",
          "height": 200
        },
        "id": "9_EfiPaZJJFc",
        "outputId": "a42c2364-4bca-4e2f-a8b8-bf77efb6d4e5"
      },
      "source": [
        "#change the value of cars in each row\r\n",
        "df_valid1['cars'] = (df_valid1['bluecar_counter'] + df_valid1['utilib_counter'] + df_valid1['utilib_1_4_counter'])\r\n",
        "#specify the datatype of \"cars\"\r\n",
        "df_valid1.cars = df_valid1.cars.astype(int)\r\n",
        "#display some records of dataframe to see changes\r\n",
        "df_valid1.head()                  "
      ],
      "execution_count": 20,
      "outputs": [
        {
          "output_type": "execute_result",
          "data": {
            "text/html": [
              "<div>\n",
              "<style scoped>\n",
              "    .dataframe tbody tr th:only-of-type {\n",
              "        vertical-align: middle;\n",
              "    }\n",
              "\n",
              "    .dataframe tbody tr th {\n",
              "        vertical-align: top;\n",
              "    }\n",
              "\n",
              "    .dataframe thead th {\n",
              "        text-align: right;\n",
              "    }\n",
              "</style>\n",
              "<table border=\"1\" class=\"dataframe\">\n",
              "  <thead>\n",
              "    <tr style=\"text-align: right;\">\n",
              "      <th></th>\n",
              "      <th>address</th>\n",
              "      <th>cars</th>\n",
              "      <th>bluecar_counter</th>\n",
              "      <th>utilib_counter</th>\n",
              "      <th>utilib_1_4_counter</th>\n",
              "      <th>city</th>\n",
              "      <th>postal_code</th>\n",
              "      <th>year</th>\n",
              "      <th>month</th>\n",
              "      <th>day</th>\n",
              "      <th>hour</th>\n",
              "      <th>minute</th>\n",
              "    </tr>\n",
              "  </thead>\n",
              "  <tbody>\n",
              "    <tr>\n",
              "      <th>0</th>\n",
              "      <td>2 AVENUE DE SUFFREN</td>\n",
              "      <td>0</td>\n",
              "      <td>0</td>\n",
              "      <td>0</td>\n",
              "      <td>0</td>\n",
              "      <td>PARIS</td>\n",
              "      <td>75015</td>\n",
              "      <td>2018</td>\n",
              "      <td>4</td>\n",
              "      <td>8</td>\n",
              "      <td>11</td>\n",
              "      <td>43</td>\n",
              "    </tr>\n",
              "    <tr>\n",
              "      <th>1</th>\n",
              "      <td>145 RUE RAYMOND LOSSERAND</td>\n",
              "      <td>6</td>\n",
              "      <td>6</td>\n",
              "      <td>0</td>\n",
              "      <td>0</td>\n",
              "      <td>PARIS</td>\n",
              "      <td>75014</td>\n",
              "      <td>2018</td>\n",
              "      <td>4</td>\n",
              "      <td>6</td>\n",
              "      <td>7</td>\n",
              "      <td>24</td>\n",
              "    </tr>\n",
              "    <tr>\n",
              "      <th>2</th>\n",
              "      <td>2 AVENUE JOHN FITZGERALD KENNEDY</td>\n",
              "      <td>5</td>\n",
              "      <td>3</td>\n",
              "      <td>0</td>\n",
              "      <td>2</td>\n",
              "      <td>LE BOURGET</td>\n",
              "      <td>93350</td>\n",
              "      <td>2018</td>\n",
              "      <td>4</td>\n",
              "      <td>3</td>\n",
              "      <td>20</td>\n",
              "      <td>14</td>\n",
              "    </tr>\n",
              "    <tr>\n",
              "      <th>3</th>\n",
              "      <td>51 RUE EUGENE OUDINE</td>\n",
              "      <td>4</td>\n",
              "      <td>3</td>\n",
              "      <td>1</td>\n",
              "      <td>0</td>\n",
              "      <td>PARIS</td>\n",
              "      <td>75013</td>\n",
              "      <td>2018</td>\n",
              "      <td>4</td>\n",
              "      <td>4</td>\n",
              "      <td>4</td>\n",
              "      <td>37</td>\n",
              "    </tr>\n",
              "    <tr>\n",
              "      <th>4</th>\n",
              "      <td>6 AVENUE DE LA PORTE DE CHAMPERRET</td>\n",
              "      <td>3</td>\n",
              "      <td>3</td>\n",
              "      <td>0</td>\n",
              "      <td>0</td>\n",
              "      <td>PARIS</td>\n",
              "      <td>75017</td>\n",
              "      <td>2018</td>\n",
              "      <td>4</td>\n",
              "      <td>8</td>\n",
              "      <td>17</td>\n",
              "      <td>23</td>\n",
              "    </tr>\n",
              "  </tbody>\n",
              "</table>\n",
              "</div>"
            ],
            "text/plain": [
              "                              address  cars  bluecar_counter  ...  day  hour minute\n",
              "0                 2 AVENUE DE SUFFREN     0                0  ...    8    11     43\n",
              "1           145 RUE RAYMOND LOSSERAND     6                6  ...    6     7     24\n",
              "2    2 AVENUE JOHN FITZGERALD KENNEDY     5                3  ...    3    20     14\n",
              "3                51 RUE EUGENE OUDINE     4                3  ...    4     4     37\n",
              "4  6 AVENUE DE LA PORTE DE CHAMPERRET     3                3  ...    8    17     23\n",
              "\n",
              "[5 rows x 12 columns]"
            ]
          },
          "metadata": {
            "tags": []
          },
          "execution_count": 20
        }
      ]
    },
    {
      "cell_type": "markdown",
      "metadata": {
        "id": "klC78hOcNhfT"
      },
      "source": [
        "###Create \"date\" column "
      ]
    },
    {
      "cell_type": "code",
      "metadata": {
        "colab": {
          "base_uri": "https://localhost:8080/",
          "height": 200
        },
        "id": "y5D4kYdtUMuh",
        "outputId": "faa4afc9-5273-4425-c6d2-3e664c1bbadd"
      },
      "source": [
        "#join the \"year\", \"month\", \"day\", \"hour\", \"minute\" to create the date column and specify the datatype\r\n",
        "df_valid1['date'] = pd.to_datetime(df_valid1[['year', 'month', 'day', 'hour', 'minute']])\r\n",
        "\r\n",
        "#drop the \"year\", \"month\", \"day\", and \"minute\" columns as they are irrelevant in the analysis\r\n",
        "df_valid1.drop(['year', 'month', 'minute'], axis=1, inplace=True)\r\n",
        "\r\n",
        "#display \r\n",
        "df_valid1.head()"
      ],
      "execution_count": 21,
      "outputs": [
        {
          "output_type": "execute_result",
          "data": {
            "text/html": [
              "<div>\n",
              "<style scoped>\n",
              "    .dataframe tbody tr th:only-of-type {\n",
              "        vertical-align: middle;\n",
              "    }\n",
              "\n",
              "    .dataframe tbody tr th {\n",
              "        vertical-align: top;\n",
              "    }\n",
              "\n",
              "    .dataframe thead th {\n",
              "        text-align: right;\n",
              "    }\n",
              "</style>\n",
              "<table border=\"1\" class=\"dataframe\">\n",
              "  <thead>\n",
              "    <tr style=\"text-align: right;\">\n",
              "      <th></th>\n",
              "      <th>address</th>\n",
              "      <th>cars</th>\n",
              "      <th>bluecar_counter</th>\n",
              "      <th>utilib_counter</th>\n",
              "      <th>utilib_1_4_counter</th>\n",
              "      <th>city</th>\n",
              "      <th>postal_code</th>\n",
              "      <th>day</th>\n",
              "      <th>hour</th>\n",
              "      <th>date</th>\n",
              "    </tr>\n",
              "  </thead>\n",
              "  <tbody>\n",
              "    <tr>\n",
              "      <th>0</th>\n",
              "      <td>2 AVENUE DE SUFFREN</td>\n",
              "      <td>0</td>\n",
              "      <td>0</td>\n",
              "      <td>0</td>\n",
              "      <td>0</td>\n",
              "      <td>PARIS</td>\n",
              "      <td>75015</td>\n",
              "      <td>8</td>\n",
              "      <td>11</td>\n",
              "      <td>2018-04-08 11:43:00</td>\n",
              "    </tr>\n",
              "    <tr>\n",
              "      <th>1</th>\n",
              "      <td>145 RUE RAYMOND LOSSERAND</td>\n",
              "      <td>6</td>\n",
              "      <td>6</td>\n",
              "      <td>0</td>\n",
              "      <td>0</td>\n",
              "      <td>PARIS</td>\n",
              "      <td>75014</td>\n",
              "      <td>6</td>\n",
              "      <td>7</td>\n",
              "      <td>2018-04-06 07:24:00</td>\n",
              "    </tr>\n",
              "    <tr>\n",
              "      <th>2</th>\n",
              "      <td>2 AVENUE JOHN FITZGERALD KENNEDY</td>\n",
              "      <td>5</td>\n",
              "      <td>3</td>\n",
              "      <td>0</td>\n",
              "      <td>2</td>\n",
              "      <td>LE BOURGET</td>\n",
              "      <td>93350</td>\n",
              "      <td>3</td>\n",
              "      <td>20</td>\n",
              "      <td>2018-04-03 20:14:00</td>\n",
              "    </tr>\n",
              "    <tr>\n",
              "      <th>3</th>\n",
              "      <td>51 RUE EUGENE OUDINE</td>\n",
              "      <td>4</td>\n",
              "      <td>3</td>\n",
              "      <td>1</td>\n",
              "      <td>0</td>\n",
              "      <td>PARIS</td>\n",
              "      <td>75013</td>\n",
              "      <td>4</td>\n",
              "      <td>4</td>\n",
              "      <td>2018-04-04 04:37:00</td>\n",
              "    </tr>\n",
              "    <tr>\n",
              "      <th>4</th>\n",
              "      <td>6 AVENUE DE LA PORTE DE CHAMPERRET</td>\n",
              "      <td>3</td>\n",
              "      <td>3</td>\n",
              "      <td>0</td>\n",
              "      <td>0</td>\n",
              "      <td>PARIS</td>\n",
              "      <td>75017</td>\n",
              "      <td>8</td>\n",
              "      <td>17</td>\n",
              "      <td>2018-04-08 17:23:00</td>\n",
              "    </tr>\n",
              "  </tbody>\n",
              "</table>\n",
              "</div>"
            ],
            "text/plain": [
              "                              address  cars  ...  hour                date\n",
              "0                 2 AVENUE DE SUFFREN     0  ...    11 2018-04-08 11:43:00\n",
              "1           145 RUE RAYMOND LOSSERAND     6  ...     7 2018-04-06 07:24:00\n",
              "2    2 AVENUE JOHN FITZGERALD KENNEDY     5  ...    20 2018-04-03 20:14:00\n",
              "3                51 RUE EUGENE OUDINE     4  ...     4 2018-04-04 04:37:00\n",
              "4  6 AVENUE DE LA PORTE DE CHAMPERRET     3  ...    17 2018-04-08 17:23:00\n",
              "\n",
              "[5 rows x 10 columns]"
            ]
          },
          "metadata": {
            "tags": []
          },
          "execution_count": 21
        }
      ]
    },
    {
      "cell_type": "markdown",
      "metadata": {
        "id": "EZY4TU9Aenq4"
      },
      "source": [
        "##Formatting The Dataset"
      ]
    },
    {
      "cell_type": "code",
      "metadata": {
        "colab": {
          "base_uri": "https://localhost:8080/",
          "height": 411
        },
        "id": "CcUFPukHSnwg",
        "outputId": "f481e0b4-7134-49d7-acda-bbffba56bf75"
      },
      "source": [
        "#sort the dataframe by address and date to get the flow of activity and assign new variable to dataframe\r\n",
        "df_formatted = df_valid1.sort_values(by=['address', 'date'])\r\n",
        "#display the formatted dataframe\r\n",
        "df_formatted"
      ],
      "execution_count": 22,
      "outputs": [
        {
          "output_type": "execute_result",
          "data": {
            "text/html": [
              "<div>\n",
              "<style scoped>\n",
              "    .dataframe tbody tr th:only-of-type {\n",
              "        vertical-align: middle;\n",
              "    }\n",
              "\n",
              "    .dataframe tbody tr th {\n",
              "        vertical-align: top;\n",
              "    }\n",
              "\n",
              "    .dataframe thead th {\n",
              "        text-align: right;\n",
              "    }\n",
              "</style>\n",
              "<table border=\"1\" class=\"dataframe\">\n",
              "  <thead>\n",
              "    <tr style=\"text-align: right;\">\n",
              "      <th></th>\n",
              "      <th>address</th>\n",
              "      <th>cars</th>\n",
              "      <th>bluecar_counter</th>\n",
              "      <th>utilib_counter</th>\n",
              "      <th>utilib_1_4_counter</th>\n",
              "      <th>city</th>\n",
              "      <th>postal_code</th>\n",
              "      <th>day</th>\n",
              "      <th>hour</th>\n",
              "      <th>date</th>\n",
              "    </tr>\n",
              "  </thead>\n",
              "  <tbody>\n",
              "    <tr>\n",
              "      <th>2551</th>\n",
              "      <td>1 ALLEE DE GASCOGNE</td>\n",
              "      <td>6</td>\n",
              "      <td>6</td>\n",
              "      <td>0</td>\n",
              "      <td>0</td>\n",
              "      <td>NANTERRE</td>\n",
              "      <td>92000</td>\n",
              "      <td>8</td>\n",
              "      <td>9</td>\n",
              "      <td>2018-04-08 09:42:00</td>\n",
              "    </tr>\n",
              "    <tr>\n",
              "      <th>2209</th>\n",
              "      <td>1 ALLEE PARC LAGRAVERE</td>\n",
              "      <td>5</td>\n",
              "      <td>4</td>\n",
              "      <td>0</td>\n",
              "      <td>1</td>\n",
              "      <td>COLOMBES</td>\n",
              "      <td>92700</td>\n",
              "      <td>1</td>\n",
              "      <td>16</td>\n",
              "      <td>2018-04-01 16:46:00</td>\n",
              "    </tr>\n",
              "    <tr>\n",
              "      <th>1968</th>\n",
              "      <td>1 ALLEE PARC LAGRAVERE</td>\n",
              "      <td>3</td>\n",
              "      <td>3</td>\n",
              "      <td>0</td>\n",
              "      <td>0</td>\n",
              "      <td>COLOMBES</td>\n",
              "      <td>92700</td>\n",
              "      <td>1</td>\n",
              "      <td>22</td>\n",
              "      <td>2018-04-01 22:31:00</td>\n",
              "    </tr>\n",
              "    <tr>\n",
              "      <th>3047</th>\n",
              "      <td>1 ALLEE PARC LAGRAVERE</td>\n",
              "      <td>7</td>\n",
              "      <td>7</td>\n",
              "      <td>0</td>\n",
              "      <td>0</td>\n",
              "      <td>COLOMBES</td>\n",
              "      <td>92700</td>\n",
              "      <td>5</td>\n",
              "      <td>12</td>\n",
              "      <td>2018-04-05 12:39:00</td>\n",
              "    </tr>\n",
              "    <tr>\n",
              "      <th>2562</th>\n",
              "      <td>1 ALLEE PARC LAGRAVERE</td>\n",
              "      <td>6</td>\n",
              "      <td>6</td>\n",
              "      <td>0</td>\n",
              "      <td>0</td>\n",
              "      <td>COLOMBES</td>\n",
              "      <td>92700</td>\n",
              "      <td>6</td>\n",
              "      <td>11</td>\n",
              "      <td>2018-04-06 11:28:00</td>\n",
              "    </tr>\n",
              "    <tr>\n",
              "      <th>...</th>\n",
              "      <td>...</td>\n",
              "      <td>...</td>\n",
              "      <td>...</td>\n",
              "      <td>...</td>\n",
              "      <td>...</td>\n",
              "      <td>...</td>\n",
              "      <td>...</td>\n",
              "      <td>...</td>\n",
              "      <td>...</td>\n",
              "      <td>...</td>\n",
              "    </tr>\n",
              "    <tr>\n",
              "      <th>1551</th>\n",
              "      <td>QUAI DE SEVRES</td>\n",
              "      <td>5</td>\n",
              "      <td>4</td>\n",
              "      <td>1</td>\n",
              "      <td>0</td>\n",
              "      <td>SEVRES</td>\n",
              "      <td>92310</td>\n",
              "      <td>2</td>\n",
              "      <td>2</td>\n",
              "      <td>2018-04-02 02:23:00</td>\n",
              "    </tr>\n",
              "    <tr>\n",
              "      <th>2919</th>\n",
              "      <td>QUAI DE SEVRES</td>\n",
              "      <td>0</td>\n",
              "      <td>0</td>\n",
              "      <td>0</td>\n",
              "      <td>0</td>\n",
              "      <td>SEVRES</td>\n",
              "      <td>92310</td>\n",
              "      <td>4</td>\n",
              "      <td>5</td>\n",
              "      <td>2018-04-04 05:16:00</td>\n",
              "    </tr>\n",
              "    <tr>\n",
              "      <th>703</th>\n",
              "      <td>QUAI DE SEVRES</td>\n",
              "      <td>0</td>\n",
              "      <td>0</td>\n",
              "      <td>0</td>\n",
              "      <td>0</td>\n",
              "      <td>SEVRES</td>\n",
              "      <td>92310</td>\n",
              "      <td>5</td>\n",
              "      <td>1</td>\n",
              "      <td>2018-04-05 01:28:00</td>\n",
              "    </tr>\n",
              "    <tr>\n",
              "      <th>1285</th>\n",
              "      <td>QUAI DE SEVRES</td>\n",
              "      <td>0</td>\n",
              "      <td>0</td>\n",
              "      <td>0</td>\n",
              "      <td>0</td>\n",
              "      <td>SEVRES</td>\n",
              "      <td>92310</td>\n",
              "      <td>5</td>\n",
              "      <td>7</td>\n",
              "      <td>2018-04-05 07:44:00</td>\n",
              "    </tr>\n",
              "    <tr>\n",
              "      <th>4368</th>\n",
              "      <td>QUAI DE SEVRES</td>\n",
              "      <td>6</td>\n",
              "      <td>6</td>\n",
              "      <td>0</td>\n",
              "      <td>0</td>\n",
              "      <td>SEVRES</td>\n",
              "      <td>92310</td>\n",
              "      <td>7</td>\n",
              "      <td>16</td>\n",
              "      <td>2018-04-07 16:31:00</td>\n",
              "    </tr>\n",
              "  </tbody>\n",
              "</table>\n",
              "<p>4618 rows × 10 columns</p>\n",
              "</div>"
            ],
            "text/plain": [
              "                     address  cars  ...  hour                date\n",
              "2551     1 ALLEE DE GASCOGNE     6  ...     9 2018-04-08 09:42:00\n",
              "2209  1 ALLEE PARC LAGRAVERE     5  ...    16 2018-04-01 16:46:00\n",
              "1968  1 ALLEE PARC LAGRAVERE     3  ...    22 2018-04-01 22:31:00\n",
              "3047  1 ALLEE PARC LAGRAVERE     7  ...    12 2018-04-05 12:39:00\n",
              "2562  1 ALLEE PARC LAGRAVERE     6  ...    11 2018-04-06 11:28:00\n",
              "...                      ...   ...  ...   ...                 ...\n",
              "1551          QUAI DE SEVRES     5  ...     2 2018-04-02 02:23:00\n",
              "2919          QUAI DE SEVRES     0  ...     5 2018-04-04 05:16:00\n",
              "703           QUAI DE SEVRES     0  ...     1 2018-04-05 01:28:00\n",
              "1285          QUAI DE SEVRES     0  ...     7 2018-04-05 07:44:00\n",
              "4368          QUAI DE SEVRES     6  ...    16 2018-04-07 16:31:00\n",
              "\n",
              "[4618 rows x 10 columns]"
            ]
          },
          "metadata": {
            "tags": []
          },
          "execution_count": 22
        }
      ]
    },
    {
      "cell_type": "markdown",
      "metadata": {
        "id": "XF1heuFugWx-"
      },
      "source": [
        "##More Construction"
      ]
    },
    {
      "cell_type": "markdown",
      "metadata": {
        "id": "vwH4ylfagefV"
      },
      "source": [
        "Since we will be analysing car usage in the different stations we will need to add columns that show usage of the different cars in the different stations."
      ]
    },
    {
      "cell_type": "code",
      "metadata": {
        "colab": {
          "base_uri": "https://localhost:8080/",
          "height": 390
        },
        "id": "7MIKL_q_gV-y",
        "outputId": "cccb740d-a5dd-45a8-db9c-6237f8885cef"
      },
      "source": [
        "#add \"cars_activity\" column to compute the usage of cars in general\r\n",
        "df_formatted['cars_activity'] = df_formatted.groupby(['address'])['cars'].diff().fillna(0)\r\n",
        "#specify datatype\r\n",
        "df_formatted.cars_activity = df_formatted.cars_activity.astype(int)\r\n",
        "\r\n",
        "#add \"bluecar_activity\" column to compute usage of bluecars\r\n",
        "df_formatted['bluecar_activity'] = df_formatted.groupby(['address'])['bluecar_counter'].diff().fillna(0)\r\n",
        "#specify datatype\r\n",
        "df_formatted.bluecar_activity = df_formatted.bluecar_activity.astype(int)\r\n",
        "\r\n",
        "#add \"utilib_activity\" column to compute usage of utilibs\r\n",
        "df_formatted['utilib_activity'] = df_formatted.groupby(['address'])['utilib_counter'].diff().fillna(0)\r\n",
        "#specify datatype\r\n",
        "df_formatted.utilib_activity = df_formatted.utilib_activity.astype(int)\r\n",
        "\r\n",
        "#add \"utilib_1_4_activity\" to compute usage of utilibs 1.4s\r\n",
        "df_formatted['utilib_1_4_activity'] = df_formatted.groupby(['address'])['utilib_1_4_counter'].diff().fillna(0)\r\n",
        "#specify datatype\r\n",
        "df_formatted.utilib_1_4_activity = df_formatted.utilib_1_4_activity.astype(int)\r\n",
        "\r\n",
        "\r\n",
        "#display some records of the dataframe to view changes\r\n",
        "df_formatted.head()"
      ],
      "execution_count": 23,
      "outputs": [
        {
          "output_type": "execute_result",
          "data": {
            "text/html": [
              "<div>\n",
              "<style scoped>\n",
              "    .dataframe tbody tr th:only-of-type {\n",
              "        vertical-align: middle;\n",
              "    }\n",
              "\n",
              "    .dataframe tbody tr th {\n",
              "        vertical-align: top;\n",
              "    }\n",
              "\n",
              "    .dataframe thead th {\n",
              "        text-align: right;\n",
              "    }\n",
              "</style>\n",
              "<table border=\"1\" class=\"dataframe\">\n",
              "  <thead>\n",
              "    <tr style=\"text-align: right;\">\n",
              "      <th></th>\n",
              "      <th>address</th>\n",
              "      <th>cars</th>\n",
              "      <th>bluecar_counter</th>\n",
              "      <th>utilib_counter</th>\n",
              "      <th>utilib_1_4_counter</th>\n",
              "      <th>city</th>\n",
              "      <th>postal_code</th>\n",
              "      <th>day</th>\n",
              "      <th>hour</th>\n",
              "      <th>date</th>\n",
              "      <th>cars_activity</th>\n",
              "      <th>bluecar_activity</th>\n",
              "      <th>utilib_activity</th>\n",
              "      <th>utilib_1_4_activity</th>\n",
              "    </tr>\n",
              "  </thead>\n",
              "  <tbody>\n",
              "    <tr>\n",
              "      <th>2551</th>\n",
              "      <td>1 ALLEE DE GASCOGNE</td>\n",
              "      <td>6</td>\n",
              "      <td>6</td>\n",
              "      <td>0</td>\n",
              "      <td>0</td>\n",
              "      <td>NANTERRE</td>\n",
              "      <td>92000</td>\n",
              "      <td>8</td>\n",
              "      <td>9</td>\n",
              "      <td>2018-04-08 09:42:00</td>\n",
              "      <td>0</td>\n",
              "      <td>0</td>\n",
              "      <td>0</td>\n",
              "      <td>0</td>\n",
              "    </tr>\n",
              "    <tr>\n",
              "      <th>2209</th>\n",
              "      <td>1 ALLEE PARC LAGRAVERE</td>\n",
              "      <td>5</td>\n",
              "      <td>4</td>\n",
              "      <td>0</td>\n",
              "      <td>1</td>\n",
              "      <td>COLOMBES</td>\n",
              "      <td>92700</td>\n",
              "      <td>1</td>\n",
              "      <td>16</td>\n",
              "      <td>2018-04-01 16:46:00</td>\n",
              "      <td>0</td>\n",
              "      <td>0</td>\n",
              "      <td>0</td>\n",
              "      <td>0</td>\n",
              "    </tr>\n",
              "    <tr>\n",
              "      <th>1968</th>\n",
              "      <td>1 ALLEE PARC LAGRAVERE</td>\n",
              "      <td>3</td>\n",
              "      <td>3</td>\n",
              "      <td>0</td>\n",
              "      <td>0</td>\n",
              "      <td>COLOMBES</td>\n",
              "      <td>92700</td>\n",
              "      <td>1</td>\n",
              "      <td>22</td>\n",
              "      <td>2018-04-01 22:31:00</td>\n",
              "      <td>-2</td>\n",
              "      <td>-1</td>\n",
              "      <td>0</td>\n",
              "      <td>-1</td>\n",
              "    </tr>\n",
              "    <tr>\n",
              "      <th>3047</th>\n",
              "      <td>1 ALLEE PARC LAGRAVERE</td>\n",
              "      <td>7</td>\n",
              "      <td>7</td>\n",
              "      <td>0</td>\n",
              "      <td>0</td>\n",
              "      <td>COLOMBES</td>\n",
              "      <td>92700</td>\n",
              "      <td>5</td>\n",
              "      <td>12</td>\n",
              "      <td>2018-04-05 12:39:00</td>\n",
              "      <td>4</td>\n",
              "      <td>4</td>\n",
              "      <td>0</td>\n",
              "      <td>0</td>\n",
              "    </tr>\n",
              "    <tr>\n",
              "      <th>2562</th>\n",
              "      <td>1 ALLEE PARC LAGRAVERE</td>\n",
              "      <td>6</td>\n",
              "      <td>6</td>\n",
              "      <td>0</td>\n",
              "      <td>0</td>\n",
              "      <td>COLOMBES</td>\n",
              "      <td>92700</td>\n",
              "      <td>6</td>\n",
              "      <td>11</td>\n",
              "      <td>2018-04-06 11:28:00</td>\n",
              "      <td>-1</td>\n",
              "      <td>-1</td>\n",
              "      <td>0</td>\n",
              "      <td>0</td>\n",
              "    </tr>\n",
              "  </tbody>\n",
              "</table>\n",
              "</div>"
            ],
            "text/plain": [
              "                     address  cars  ...  utilib_activity  utilib_1_4_activity\n",
              "2551     1 ALLEE DE GASCOGNE     6  ...                0                    0\n",
              "2209  1 ALLEE PARC LAGRAVERE     5  ...                0                    0\n",
              "1968  1 ALLEE PARC LAGRAVERE     3  ...                0                   -1\n",
              "3047  1 ALLEE PARC LAGRAVERE     7  ...                0                    0\n",
              "2562  1 ALLEE PARC LAGRAVERE     6  ...                0                    0\n",
              "\n",
              "[5 rows x 14 columns]"
            ]
          },
          "metadata": {
            "tags": []
          },
          "execution_count": 0
        }
      ]
    },
    {
      "cell_type": "markdown",
      "metadata": {
        "id": "Ost4aZcAnBA0"
      },
      "source": [
        "##Exporting And Loading The Prepared Dataset"
      ]
    },
    {
      "cell_type": "code",
      "metadata": {
        "id": "1h7kChQDaYA4",
        "colab": {
          "base_uri": "https://localhost:8080/",
          "height": 390
        },
        "outputId": "b52a01bc-3547-449e-a855-337311b3d452"
      },
      "source": [
        "#export our dataframe into a csv file \n",
        "df_formatted.to_csv('autolibdataset.csv')\n",
        "\n",
        "#load the dataframe using exported csv file and assign the dataframe a new name that will be used in analysis\n",
        "autolib = pd.read_csv('autolibdataset.csv')\n",
        "\n",
        "#specify the column names\n",
        "autolib.columns = ['index', 'station', 'cars', 'bluecar_counter', 'utilib_counter', 'utilib_1_4_counter', 'city', 'postal_code', 'day', 'hour', 'date', 'cars_activity', 'bluecar_activity', 'utilib_activity', 'utilib_1_4_activity' ]\n",
        "\n",
        "#drop index column\n",
        "autolib.drop(['index'], axis=1, inplace=True)\n",
        "\n",
        "#display a few records of the dataframe\n",
        "autolib.head()"
      ],
      "execution_count": 24,
      "outputs": [
        {
          "output_type": "execute_result",
          "data": {
            "text/html": [
              "<div>\n",
              "<style scoped>\n",
              "    .dataframe tbody tr th:only-of-type {\n",
              "        vertical-align: middle;\n",
              "    }\n",
              "\n",
              "    .dataframe tbody tr th {\n",
              "        vertical-align: top;\n",
              "    }\n",
              "\n",
              "    .dataframe thead th {\n",
              "        text-align: right;\n",
              "    }\n",
              "</style>\n",
              "<table border=\"1\" class=\"dataframe\">\n",
              "  <thead>\n",
              "    <tr style=\"text-align: right;\">\n",
              "      <th></th>\n",
              "      <th>station</th>\n",
              "      <th>cars</th>\n",
              "      <th>bluecar_counter</th>\n",
              "      <th>utilib_counter</th>\n",
              "      <th>utilib_1_4_counter</th>\n",
              "      <th>city</th>\n",
              "      <th>postal_code</th>\n",
              "      <th>day</th>\n",
              "      <th>hour</th>\n",
              "      <th>date</th>\n",
              "      <th>cars_activity</th>\n",
              "      <th>bluecar_activity</th>\n",
              "      <th>utilib_activity</th>\n",
              "      <th>utilib_1_4_activity</th>\n",
              "    </tr>\n",
              "  </thead>\n",
              "  <tbody>\n",
              "    <tr>\n",
              "      <th>0</th>\n",
              "      <td>1 ALLEE DE GASCOGNE</td>\n",
              "      <td>6</td>\n",
              "      <td>6</td>\n",
              "      <td>0</td>\n",
              "      <td>0</td>\n",
              "      <td>NANTERRE</td>\n",
              "      <td>92000</td>\n",
              "      <td>8</td>\n",
              "      <td>9</td>\n",
              "      <td>2018-04-08 09:42:00</td>\n",
              "      <td>0</td>\n",
              "      <td>0</td>\n",
              "      <td>0</td>\n",
              "      <td>0</td>\n",
              "    </tr>\n",
              "    <tr>\n",
              "      <th>1</th>\n",
              "      <td>1 ALLEE PARC LAGRAVERE</td>\n",
              "      <td>5</td>\n",
              "      <td>4</td>\n",
              "      <td>0</td>\n",
              "      <td>1</td>\n",
              "      <td>COLOMBES</td>\n",
              "      <td>92700</td>\n",
              "      <td>1</td>\n",
              "      <td>16</td>\n",
              "      <td>2018-04-01 16:46:00</td>\n",
              "      <td>0</td>\n",
              "      <td>0</td>\n",
              "      <td>0</td>\n",
              "      <td>0</td>\n",
              "    </tr>\n",
              "    <tr>\n",
              "      <th>2</th>\n",
              "      <td>1 ALLEE PARC LAGRAVERE</td>\n",
              "      <td>3</td>\n",
              "      <td>3</td>\n",
              "      <td>0</td>\n",
              "      <td>0</td>\n",
              "      <td>COLOMBES</td>\n",
              "      <td>92700</td>\n",
              "      <td>1</td>\n",
              "      <td>22</td>\n",
              "      <td>2018-04-01 22:31:00</td>\n",
              "      <td>-2</td>\n",
              "      <td>-1</td>\n",
              "      <td>0</td>\n",
              "      <td>-1</td>\n",
              "    </tr>\n",
              "    <tr>\n",
              "      <th>3</th>\n",
              "      <td>1 ALLEE PARC LAGRAVERE</td>\n",
              "      <td>7</td>\n",
              "      <td>7</td>\n",
              "      <td>0</td>\n",
              "      <td>0</td>\n",
              "      <td>COLOMBES</td>\n",
              "      <td>92700</td>\n",
              "      <td>5</td>\n",
              "      <td>12</td>\n",
              "      <td>2018-04-05 12:39:00</td>\n",
              "      <td>4</td>\n",
              "      <td>4</td>\n",
              "      <td>0</td>\n",
              "      <td>0</td>\n",
              "    </tr>\n",
              "    <tr>\n",
              "      <th>4</th>\n",
              "      <td>1 ALLEE PARC LAGRAVERE</td>\n",
              "      <td>6</td>\n",
              "      <td>6</td>\n",
              "      <td>0</td>\n",
              "      <td>0</td>\n",
              "      <td>COLOMBES</td>\n",
              "      <td>92700</td>\n",
              "      <td>6</td>\n",
              "      <td>11</td>\n",
              "      <td>2018-04-06 11:28:00</td>\n",
              "      <td>-1</td>\n",
              "      <td>-1</td>\n",
              "      <td>0</td>\n",
              "      <td>0</td>\n",
              "    </tr>\n",
              "  </tbody>\n",
              "</table>\n",
              "</div>"
            ],
            "text/plain": [
              "                  station  cars  ...  utilib_activity  utilib_1_4_activity\n",
              "0     1 ALLEE DE GASCOGNE     6  ...                0                    0\n",
              "1  1 ALLEE PARC LAGRAVERE     5  ...                0                    0\n",
              "2  1 ALLEE PARC LAGRAVERE     3  ...                0                   -1\n",
              "3  1 ALLEE PARC LAGRAVERE     7  ...                0                    0\n",
              "4  1 ALLEE PARC LAGRAVERE     6  ...                0                    0\n",
              "\n",
              "[5 rows x 14 columns]"
            ]
          },
          "metadata": {
            "tags": []
          },
          "execution_count": 24
        }
      ]
    },
    {
      "cell_type": "code",
      "metadata": {
        "colab": {
          "base_uri": "https://localhost:8080/"
        },
        "id": "J7EUb3sWThYu",
        "outputId": "efee6348-8031-4a15-d715-fc0111f83986"
      },
      "source": [
        "#display information about the dataframe\r\n",
        "autolib.info()"
      ],
      "execution_count": 25,
      "outputs": [
        {
          "output_type": "stream",
          "text": [
            "<class 'pandas.core.frame.DataFrame'>\n",
            "RangeIndex: 4618 entries, 0 to 4617\n",
            "Data columns (total 14 columns):\n",
            " #   Column               Non-Null Count  Dtype \n",
            "---  ------               --------------  ----- \n",
            " 0   station              4618 non-null   object\n",
            " 1   cars                 4618 non-null   int64 \n",
            " 2   bluecar_counter      4618 non-null   int64 \n",
            " 3   utilib_counter       4618 non-null   int64 \n",
            " 4   utilib_1_4_counter   4618 non-null   int64 \n",
            " 5   city                 4618 non-null   object\n",
            " 6   postal_code          4618 non-null   int64 \n",
            " 7   day                  4618 non-null   int64 \n",
            " 8   hour                 4618 non-null   int64 \n",
            " 9   date                 4618 non-null   object\n",
            " 10  cars_activity        4618 non-null   int64 \n",
            " 11  bluecar_activity     4618 non-null   int64 \n",
            " 12  utilib_activity      4618 non-null   int64 \n",
            " 13  utilib_1_4_activity  4618 non-null   int64 \n",
            "dtypes: int64(11), object(3)\n",
            "memory usage: 505.2+ KB\n"
          ],
          "name": "stdout"
        }
      ]
    },
    {
      "cell_type": "code",
      "metadata": {
        "colab": {
          "base_uri": "https://localhost:8080/"
        },
        "id": "95NFYz8i6Rhq",
        "outputId": "b6b9f485-b8c5-473f-a46a-c0a248348123"
      },
      "source": [
        "#change \"date\" data type to datetime\r\n",
        "autolib['date']=pd.to_datetime(autolib['date'])\r\n",
        "\r\n",
        "#change \"postal_code\" data type to object\r\n",
        "autolib.postal_code = autolib.postal_code.astype(str)\r\n",
        "\r\n",
        "#check data types to verify change\r\n",
        "autolib.dtypes"
      ],
      "execution_count": 26,
      "outputs": [
        {
          "output_type": "execute_result",
          "data": {
            "text/plain": [
              "station                        object\n",
              "cars                            int64\n",
              "bluecar_counter                 int64\n",
              "utilib_counter                  int64\n",
              "utilib_1_4_counter              int64\n",
              "city                           object\n",
              "postal_code                    object\n",
              "day                             int64\n",
              "hour                            int64\n",
              "date                   datetime64[ns]\n",
              "cars_activity                   int64\n",
              "bluecar_activity                int64\n",
              "utilib_activity                 int64\n",
              "utilib_1_4_activity             int64\n",
              "dtype: object"
            ]
          },
          "metadata": {
            "tags": []
          },
          "execution_count": 26
        }
      ]
    },
    {
      "cell_type": "markdown",
      "metadata": {
        "id": "qJBS4APQ2GBZ"
      },
      "source": [
        "##Basic Computations"
      ]
    },
    {
      "cell_type": "markdown",
      "metadata": {
        "id": "MgIbOwXk2LU_"
      },
      "source": [
        "###Count of stations\r\n"
      ]
    },
    {
      "cell_type": "code",
      "metadata": {
        "colab": {
          "base_uri": "https://localhost:8080/"
        },
        "id": "wN6O4vi518mm",
        "outputId": "4a7cb62c-b108-4c78-b9b2-6a24b564f08e"
      },
      "source": [
        "#create a list of distinct values in \"station\"\r\n",
        "stations = autolib['station'].unique().tolist()\r\n",
        "\r\n",
        "#find number of distinct stations\r\n",
        "x = len(stations)\r\n",
        "\r\n",
        "#print number of stations\r\n",
        "print(\"The number of stations is \"+str(x)) "
      ],
      "execution_count": 27,
      "outputs": [
        {
          "output_type": "stream",
          "text": [
            "The number of stations is 1025\n"
          ],
          "name": "stdout"
        }
      ]
    },
    {
      "cell_type": "markdown",
      "metadata": {
        "id": "AmcWaJb_3XH6"
      },
      "source": [
        "###Count of cities"
      ]
    },
    {
      "cell_type": "code",
      "metadata": {
        "colab": {
          "base_uri": "https://localhost:8080/"
        },
        "id": "4D5Tj4T23kAw",
        "outputId": "e5f738f8-0151-4a03-b6b8-498046e49210"
      },
      "source": [
        "#create a list of distinct values in \"city\"\r\n",
        "cities = autolib['city'].unique().tolist()\r\n",
        "\r\n",
        "#find number of distinct stations\r\n",
        "y = len(cities)\r\n",
        "\r\n",
        "#print the number of cities\r\n",
        "print(\"The number of cities is \"+str(y)) "
      ],
      "execution_count": 28,
      "outputs": [
        {
          "output_type": "stream",
          "text": [
            "The number of cities is 83\n"
          ],
          "name": "stdout"
        }
      ]
    },
    {
      "cell_type": "markdown",
      "metadata": {
        "id": "q-p8CjYE-yWb"
      },
      "source": [
        "###Count of postal codes"
      ]
    },
    {
      "cell_type": "code",
      "metadata": {
        "colab": {
          "base_uri": "https://localhost:8080/"
        },
        "id": "brdroZvG-1_b",
        "outputId": "705a2172-5957-422c-ac73-947c14a26659"
      },
      "source": [
        "#create a list of distinct postal codes\r\n",
        "postal_codes = autolib['postal_code'].unique().tolist()\r\n",
        "\r\n",
        "#find number of distinct postal codes\r\n",
        "z =len(postal_codes)\r\n",
        "\r\n",
        "#print number of postalcodes\r\n",
        "print(\"The number of postal codes is \"+str(z))"
      ],
      "execution_count": 29,
      "outputs": [
        {
          "output_type": "stream",
          "text": [
            "The number of postal codes is 103\n"
          ],
          "name": "stdout"
        }
      ]
    },
    {
      "cell_type": "markdown",
      "metadata": {
        "id": "H0UoUduxo9qR"
      },
      "source": [
        "###Count of days"
      ]
    },
    {
      "cell_type": "code",
      "metadata": {
        "colab": {
          "base_uri": "https://localhost:8080/"
        },
        "id": "SZmeCLWlo6FM",
        "outputId": "df26f669-71f8-4b25-fb0f-09fb5c123c7c"
      },
      "source": [
        "#create a list of distinct days\r\n",
        "days = autolib['day'].unique().tolist()\r\n",
        "\r\n",
        "#find number of distinct days and assign variable\r\n",
        "days_number = len(days)\r\n",
        "\r\n",
        "#print number of days\r\n",
        "print(\"The number of days is \"+str(days_number))"
      ],
      "execution_count": 30,
      "outputs": [
        {
          "output_type": "stream",
          "text": [
            "The number of days is 9\n"
          ],
          "name": "stdout"
        }
      ]
    },
    {
      "cell_type": "markdown",
      "metadata": {
        "id": "Ki-8nkDxz02M"
      },
      "source": [
        "##Answering Questions"
      ]
    },
    {
      "cell_type": "markdown",
      "metadata": {
        "id": "F7gnr0Lhl5io"
      },
      "source": [
        "NB: A positive in the _activity columns means a return and a negative means a pick up."
      ]
    },
    {
      "cell_type": "markdown",
      "metadata": {
        "id": "5HVft0BE0DNV"
      },
      "source": [
        "###Question one"
      ]
    },
    {
      "cell_type": "markdown",
      "metadata": {
        "id": "CFXOYkvh0GO_"
      },
      "source": [
        "a. What is the most popular hour of the day for picking up bluecars in Paris?"
      ]
    },
    {
      "cell_type": "code",
      "metadata": {
        "id": "d8fKzIwWz6bV",
        "colab": {
          "base_uri": "https://localhost:8080/"
        },
        "outputId": "ffa7b67d-f0e9-4506-b4ee-547e1abf0b0f"
      },
      "source": [
        "#specify the areas of interest and their conditions then group the dataframe by hour and find the sum of the bluecar_activity then convert to dataframe\r\n",
        "pick_hour_paris = autolib[(autolib.city == 'PARIS') & (autolib.bluecar_activity < 0)].groupby('hour')['bluecar_activity'].sum().reset_index()\r\n",
        "\r\n",
        "#find records with the minimum value of bluecar activity\r\n",
        "most_pick_hour_paris = pick_hour_paris[pick_hour_paris['bluecar_activity']==pick_hour_paris['bluecar_activity'].min()]\r\n",
        "\r\n",
        "#display the hour with the minimum value of bluecar_activity\r\n",
        "print(most_pick_hour_paris)"
      ],
      "execution_count": 31,
      "outputs": [
        {
          "output_type": "stream",
          "text": [
            "    hour  bluecar_activity\n",
            "21    21              -109\n"
          ],
          "name": "stdout"
        }
      ]
    },
    {
      "cell_type": "markdown",
      "metadata": {
        "id": "q2bG0cNXLo3-"
      },
      "source": [
        "b. What is the most popular hour of the day for returning bluecars in Paris?"
      ]
    },
    {
      "cell_type": "code",
      "metadata": {
        "colab": {
          "base_uri": "https://localhost:8080/"
        },
        "id": "8JkK-ff_L_KD",
        "outputId": "cb5c1590-891c-4a5a-90c7-8452d7b6574f"
      },
      "source": [
        "#specify the areas of interest and their conditions then group the dataframe by hour and find the sum of the bluecar_activity then convert to dataframe\r\n",
        "return_hour_paris = autolib[(autolib.city == 'PARIS') & (autolib.bluecar_activity > 0)].groupby('hour')['bluecar_activity'].sum().reset_index()\r\n",
        "\r\n",
        "#find records with the maximum value of bluecar activity\r\n",
        "most_return_hour_paris = return_hour_paris[return_hour_paris['bluecar_activity']==return_hour_paris['bluecar_activity'].max()]\r\n",
        "\r\n",
        "#display record with the maximum value of bluecar_activity\r\n",
        "print(most_return_hour_paris)"
      ],
      "execution_count": 32,
      "outputs": [
        {
          "output_type": "stream",
          "text": [
            "    hour  bluecar_activity\n",
            "9      9               101\n",
            "12    12               101\n"
          ],
          "name": "stdout"
        }
      ]
    },
    {
      "cell_type": "markdown",
      "metadata": {
        "id": "lUTl3RDCMBqs"
      },
      "source": [
        "c. What is the most popular station for bluecars in Paris?"
      ]
    },
    {
      "cell_type": "code",
      "metadata": {
        "colab": {
          "base_uri": "https://localhost:8080/"
        },
        "id": "vS-J-mVVMQto",
        "outputId": "13e9a606-5193-4461-af50-973a9d1b314e"
      },
      "source": [
        "#specify the areas of interest and their conditions then group the dataframe by station and find the sum of the bluecar_activity then convert to dataframe\r\n",
        "pop_station_paris = autolib[(autolib.city == 'PARIS') & (autolib.bluecar_activity < 0)].groupby('station')['bluecar_activity'].sum().reset_index()\r\n",
        "\r\n",
        "#find records in which the sum of bluecars_activity is minimum\r\n",
        "most_pop_station_paris = pop_station_paris[pop_station_paris['bluecar_activity']==pop_station_paris['bluecar_activity'].min()]\r\n",
        "\r\n",
        "#display records with the minimum value of bluecars_activity\r\n",
        "print(most_pop_station_paris)"
      ],
      "execution_count": 33,
      "outputs": [
        {
          "output_type": "stream",
          "text": [
            "                               station  bluecar_activity\n",
            "418  8 AVENUE DE LA PORTE DE MONTROUGE               -19\n"
          ],
          "name": "stdout"
        }
      ]
    },
    {
      "cell_type": "markdown",
      "metadata": {
        "id": "8Dioy66GxJ_w"
      },
      "source": [
        "d. What is the least popular station for bluecars in Paris?"
      ]
    },
    {
      "cell_type": "code",
      "metadata": {
        "colab": {
          "base_uri": "https://localhost:8080/"
        },
        "id": "sMTlDp7wxX6R",
        "outputId": "82c52b76-432b-40d9-da4f-655d057cbe1b"
      },
      "source": [
        "#specify the areas of interest and their conditions then group the dataframe by station and find the sum of the bluecar_activity then convert to dataframe\r\n",
        "pop_station_paris = autolib[(autolib.city == 'PARIS') & (autolib.bluecar_activity < 0)].groupby('station')['bluecar_activity'].sum().reset_index()\r\n",
        "\r\n",
        "#find records in which the sum of bluecars_activity is maximum\r\n",
        "least_pop_station_paris = pop_station_paris[pop_station_paris['bluecar_activity']==pop_station_paris['bluecar_activity'].max()]\r\n",
        "\r\n",
        "#display records with the maximum value of bluecars_activity\r\n",
        "print(least_pop_station_paris)"
      ],
      "execution_count": 34,
      "outputs": [
        {
          "output_type": "stream",
          "text": [
            "                            station  bluecar_activity\n",
            "2                  1 AVENUE MARCEAU                -1\n",
            "4             1 PLACE SAINT GERVAIS                -1\n",
            "9                       1 RUE DANTE                -1\n",
            "11               1 RUE DE SCHOMBERG                -1\n",
            "13      1 RUE DES NONNAINS D'HYERES                -1\n",
            "..                              ...               ...\n",
            "438       87 BOULEVARD BEAUMARCHAIS                -1\n",
            "443             9 BOULEVARD BOURDON                -1\n",
            "447                  9 RUE LOBINEAU                -1\n",
            "448  91 RUE DU FAUBOURG SAINT-DENIS                -1\n",
            "451              92 RUE DES ORTEAUX                -1\n",
            "\n",
            "[83 rows x 2 columns]\n"
          ],
          "name": "stdout"
        }
      ]
    },
    {
      "cell_type": "markdown",
      "metadata": {
        "id": "_JtCNpqPf0eD"
      },
      "source": [
        "e. What is the least popular hour for picking blue cars in paris"
      ]
    },
    {
      "cell_type": "code",
      "metadata": {
        "colab": {
          "base_uri": "https://localhost:8080/"
        },
        "id": "khtMGoQify4V",
        "outputId": "6c24fd2e-ab9a-4f64-db81-60c0458fd3bb"
      },
      "source": [
        "#specify the areas of interest and their conditions then group the dataframe by hour and find the sum of the bluecar_activity then convert to dataframe\r\n",
        "pick_hour_paris = autolib[(autolib.city == 'PARIS') & (autolib.bluecar_activity < 0)].groupby('hour')['bluecar_activity'].sum().reset_index()\r\n",
        "\r\n",
        "#find records with the maximum value of bluecar activity\r\n",
        "least_pick_hour_paris = pick_hour_paris[pick_hour_paris['bluecar_activity']==pick_hour_paris['bluecar_activity'].max()]\r\n",
        "\r\n",
        "#display the hour with the maximum value of bluecar_activity\r\n",
        "print(least_pick_hour_paris)"
      ],
      "execution_count": 35,
      "outputs": [
        {
          "output_type": "stream",
          "text": [
            "   hour  bluecar_activity\n",
            "9     9               -42\n"
          ],
          "name": "stdout"
        }
      ]
    },
    {
      "cell_type": "markdown",
      "metadata": {
        "id": "fzozzv5IjJQz"
      },
      "source": [
        "f. What is the least popular hour for returning bluecars in Paris?"
      ]
    },
    {
      "cell_type": "code",
      "metadata": {
        "colab": {
          "base_uri": "https://localhost:8080/"
        },
        "id": "ItLuuF66jUby",
        "outputId": "efff05fe-9ce9-47e0-abb9-7d3152115eab"
      },
      "source": [
        "#specify the areas of interest and their conditions then group the dataframe by hour and find the sum of the bluecar_activity then convert to dataframe\r\n",
        "return_hour_paris = autolib[(autolib.city == 'PARIS') & (autolib.bluecar_activity > 0)].groupby('hour')['bluecar_activity'].sum().reset_index()\r\n",
        "\r\n",
        "#find records with the minimum value of bluecar activity\r\n",
        "least_return_hour_paris = return_hour_paris[return_hour_paris['bluecar_activity']==return_hour_paris['bluecar_activity'].min()]\r\n",
        "\r\n",
        "#display record with the minimum value of bluecar_activity\r\n",
        "print(least_return_hour_paris)"
      ],
      "execution_count": 36,
      "outputs": [
        {
          "output_type": "stream",
          "text": [
            "   hour  bluecar_activity\n",
            "1     1                40\n"
          ],
          "name": "stdout"
        }
      ]
    },
    {
      "cell_type": "markdown",
      "metadata": {
        "id": "8J42tzZBp5W6"
      },
      "source": [
        "What is the average pick ups per day in Paris?"
      ]
    },
    {
      "cell_type": "code",
      "metadata": {
        "colab": {
          "base_uri": "https://localhost:8080/"
        },
        "id": "_zkij8ADqG58",
        "outputId": "a34add17-4e08-4f6b-8d57-358c324017c4"
      },
      "source": [
        "#find the sum of pickups for the 9 days in Paris\r\n",
        "pick_total_paris = autolib.loc[(autolib['city'] == 'PARIS') & (autolib['bluecar_activity'] < 0), 'bluecar_activity'].sum()\r\n",
        "\r\n",
        "#calculate the average number of pick ups per day   \r\n",
        "avg_pick_day_paris = ((pick_total_paris/days_number)*-1).round(0)\r\n",
        "\r\n",
        "#display average number of pick ups per day in Paris\r\n",
        "print(\"The average number of pick ups per day is \"+str(avg_pick_day_paris)) "
      ],
      "execution_count": 37,
      "outputs": [
        {
          "output_type": "stream",
          "text": [
            "The average number of pick ups per day is 181.0\n"
          ],
          "name": "stdout"
        }
      ]
    },
    {
      "cell_type": "markdown",
      "metadata": {
        "id": "-emKIVtvAQ4D"
      },
      "source": [
        "###Question two"
      ]
    },
    {
      "cell_type": "markdown",
      "metadata": {
        "id": "bBnOoPrsMkZq"
      },
      "source": [
        "a. What is the most popular hour of the day for picking up bluecars in the country?"
      ]
    },
    {
      "cell_type": "code",
      "metadata": {
        "colab": {
          "base_uri": "https://localhost:8080/"
        },
        "id": "nkMAVu3yMk9F",
        "outputId": "82d48136-ce17-4a66-a883-a15c30a3cd02"
      },
      "source": [
        "#specify the areas of interest and their conditions then group the dataframe by hour and find the sum of the bluecar_activity then convert to dataframe\r\n",
        "pick_hour = autolib[(autolib.bluecar_activity < 0)].groupby('hour')['bluecar_activity'].sum().reset_index()\r\n",
        "\r\n",
        "#find records with the minimum value of bluecar activity\r\n",
        "most_pick_hour = pick_hour[pick_hour['bluecar_activity']==pick_hour['bluecar_activity'].min()]\r\n",
        "\r\n",
        "#display the hour with the minimum value of bluecar_activity\r\n",
        "print(most_pick_hour)"
      ],
      "execution_count": 38,
      "outputs": [
        {
          "output_type": "stream",
          "text": [
            "    hour  bluecar_activity\n",
            "21    21              -190\n"
          ],
          "name": "stdout"
        }
      ]
    },
    {
      "cell_type": "markdown",
      "metadata": {
        "id": "aqCDF1MfAVSl"
      },
      "source": [
        "b.What is the most popular hour for returning bluecars in the country?"
      ]
    },
    {
      "cell_type": "code",
      "metadata": {
        "colab": {
          "base_uri": "https://localhost:8080/"
        },
        "id": "lonjRW4FAeKI",
        "outputId": "fa90468a-d59e-48b2-ebb5-91135ae39a8f"
      },
      "source": [
        "#specify the areas of interest and their conditions then group the dataframe by hour and find the sum of the bluecar_activity then convert to dataframe\r\n",
        "return_hour = autolib[(autolib.bluecar_activity > 0)].groupby('hour')['bluecar_activity'].sum().reset_index()\r\n",
        "\r\n",
        "#find records with the maximum value of bluecar activity\r\n",
        "most_return_hour = return_hour[return_hour['bluecar_activity']==return_hour['bluecar_activity'].max()]\r\n",
        "\r\n",
        "#display the hour with the minimum value of bluecar_activity\r\n",
        "print(most_return_hour)"
      ],
      "execution_count": 39,
      "outputs": [
        {
          "output_type": "stream",
          "text": [
            "   hour  bluecar_activity\n",
            "3     3               158\n"
          ],
          "name": "stdout"
        }
      ]
    },
    {
      "cell_type": "markdown",
      "metadata": {
        "id": "JBaA_IAbCRc7"
      },
      "source": [
        "###Question three"
      ]
    },
    {
      "cell_type": "markdown",
      "metadata": {
        "id": "tZhUCpZwAff8"
      },
      "source": [
        "What is the most popular station for bluecars in the country?\r\n",
        "\r\n",
        "\r\n"
      ]
    },
    {
      "cell_type": "markdown",
      "metadata": {
        "id": "J1NTj1bfCbci"
      },
      "source": [
        "a. Overall"
      ]
    },
    {
      "cell_type": "code",
      "metadata": {
        "colab": {
          "base_uri": "https://localhost:8080/"
        },
        "id": "Lz_qjnx-CeZ_",
        "outputId": "428dfc8d-f49b-4bcd-c8d9-6725aec48526"
      },
      "source": [
        "#specify the areas of interest and their conditions then group the dataframe by postal code and station and find the sum of the bluecar_activity then convert to dataframe\r\n",
        "pop_station = autolib[(autolib.bluecar_activity < 0)].groupby(['postal_code','station'])['bluecar_activity'].sum().reset_index()\r\n",
        "\r\n",
        "#find records in which the sum of bluecars_activity is minimum\r\n",
        "most_pop_station = pop_station[pop_station['bluecar_activity']==pop_station['bluecar_activity'].min()]\r\n",
        "\r\n",
        "#display records with the minimum value of bluecars_activity\r\n",
        "print(most_pop_station)"
      ],
      "execution_count": 40,
      "outputs": [
        {
          "output_type": "stream",
          "text": [
            "    postal_code                            station  bluecar_activity\n",
            "256       75014  8 AVENUE DE LA PORTE DE MONTROUGE               -19\n"
          ],
          "name": "stdout"
        }
      ]
    },
    {
      "cell_type": "markdown",
      "metadata": {
        "id": "iiBj0Fx7CfYv"
      },
      "source": [
        "b. At the most popular picking hour"
      ]
    },
    {
      "cell_type": "code",
      "metadata": {
        "colab": {
          "base_uri": "https://localhost:8080/"
        },
        "id": "K1rY1YRsBEuM",
        "outputId": "049ec2f1-974a-483f-d7ba-038db2abec3d"
      },
      "source": [
        "#create a list of most popular picking hour\r\n",
        "pop_hour_list = most_pick_hour['hour'].tolist()\r\n",
        "\r\n",
        "#specify the areas of interest and their conditions then group the dataframe by station and postal code and find the sum of the bluecar_activity then convert to dataframe\r\n",
        "station_pophour = autolib[(autolib.hour.isin(pop_hour_list)) & (autolib.bluecar_activity<0)].groupby(['postal_code',\"station\"])['bluecar_activity'].sum().reset_index()\r\n",
        "\r\n",
        "#find records in which the sum of bluecars_activity is minimum\r\n",
        "popstation_pophour = station_pophour[station_pophour['bluecar_activity'] ==station_pophour['bluecar_activity'].min()]\r\n",
        "\r\n",
        "#display records with the minimum value of bluecars_activity\r\n",
        "print(popstation_pophour)"
      ],
      "execution_count": 41,
      "outputs": [
        {
          "output_type": "stream",
          "text": [
            "   postal_code                    station  bluecar_activity\n",
            "5        75008            19 RUE TRONCHET                -6\n",
            "18       75013  47 BOULEVARD DE L'HOPITAL                -6\n"
          ],
          "name": "stdout"
        }
      ]
    },
    {
      "cell_type": "markdown",
      "metadata": {
        "id": "Rvz9sqjjC5Vy"
      },
      "source": [
        "###Question four"
      ]
    },
    {
      "cell_type": "markdown",
      "metadata": {
        "id": "yDlFMSBGCpU9"
      },
      "source": [
        "What postal code is the most popular for picking up bluecars?"
      ]
    },
    {
      "cell_type": "markdown",
      "metadata": {
        "id": "043fdtJiDufH"
      },
      "source": [
        "a. Overall"
      ]
    },
    {
      "cell_type": "code",
      "metadata": {
        "colab": {
          "base_uri": "https://localhost:8080/"
        },
        "id": "GD5QiuJCD-LE",
        "outputId": "f0f06890-646b-4790-b841-60f487af3279"
      },
      "source": [
        "#specify the areas of interest and their conditions then group the dataframe by postal code and station and find the sum of the bluecar_activity then convert to dataframe\r\n",
        "pop_pcode = autolib[(autolib.bluecar_activity < 0)].groupby(['postal_code'])['bluecar_activity'].sum().reset_index()\r\n",
        "\r\n",
        "#find records in which the sum of bluecars_activity is minimum\r\n",
        "most_pop_pcode = pop_pcode[pop_pcode['bluecar_activity']==pop_pcode['bluecar_activity'].min()]\r\n",
        "\r\n",
        "#display records with the minimum value of bluecars_activity\r\n",
        "print(most_pop_pcode)"
      ],
      "execution_count": 42,
      "outputs": [
        {
          "output_type": "stream",
          "text": [
            "   postal_code  bluecar_activity\n",
            "14       75015              -175\n"
          ],
          "name": "stdout"
        }
      ]
    },
    {
      "cell_type": "markdown",
      "metadata": {
        "id": "kiTkAfoMDw2O"
      },
      "source": [
        "b. At the most popular picking hour"
      ]
    },
    {
      "cell_type": "code",
      "metadata": {
        "colab": {
          "base_uri": "https://localhost:8080/"
        },
        "id": "rm-omxJgD9PM",
        "outputId": "bd607304-1018-4a96-e996-3411b796ed93"
      },
      "source": [
        "#create a list of most popular picking hour\r\n",
        "pop_hour_list = most_pick_hour['hour'].tolist()\r\n",
        "\r\n",
        "#specify the areas of interest and their conditions then group the dataframe by postal code and find the sum of the bluecar_activity then convert to dataframe\r\n",
        "pcode_pophour = autolib[(autolib.hour.isin(pop_hour_list)) & (autolib.bluecar_activity<0)].groupby([\"postal_code\"])['bluecar_activity'].sum().reset_index()\r\n",
        "\r\n",
        "#find records in which the sum of bluecars_activity is minimum\r\n",
        "poppcode_pophour = pcode_pophour[pcode_pophour['bluecar_activity'] == pcode_pophour['bluecar_activity'].min()]\r\n",
        "\r\n",
        "#display records with the minimum value of bluecars_activity\r\n",
        "print(poppcode_pophour)"
      ],
      "execution_count": 43,
      "outputs": [
        {
          "output_type": "stream",
          "text": [
            "  postal_code  bluecar_activity\n",
            "6       75013               -17\n"
          ],
          "name": "stdout"
        }
      ]
    },
    {
      "cell_type": "markdown",
      "metadata": {
        "id": "8YfPSw4wELOf"
      },
      "source": [
        "###Question five"
      ]
    },
    {
      "cell_type": "markdown",
      "metadata": {
        "id": "-87aY5ioDARV"
      },
      "source": [
        "Does the most popular station belong to the most popular postal code  "
      ]
    },
    {
      "cell_type": "markdown",
      "metadata": {
        "id": "SCofgS5aEVLc"
      },
      "source": [
        "a. Overall"
      ]
    },
    {
      "cell_type": "code",
      "metadata": {
        "colab": {
          "base_uri": "https://localhost:8080/",
          "height": 78
        },
        "id": "sS90GCm2EFP7",
        "outputId": "99bcd373-581e-4545-d191-a4b52c880f99"
      },
      "source": [
        "#check if postal code in the most popular postal code is in the most popular station\r\n",
        "most_pop_pcode.assign(in_most_pop_station=most_pop_pcode.postal_code.isin(most_pop_station.postal_code).astype(str))\r\n"
      ],
      "execution_count": 44,
      "outputs": [
        {
          "output_type": "execute_result",
          "data": {
            "text/html": [
              "<div>\n",
              "<style scoped>\n",
              "    .dataframe tbody tr th:only-of-type {\n",
              "        vertical-align: middle;\n",
              "    }\n",
              "\n",
              "    .dataframe tbody tr th {\n",
              "        vertical-align: top;\n",
              "    }\n",
              "\n",
              "    .dataframe thead th {\n",
              "        text-align: right;\n",
              "    }\n",
              "</style>\n",
              "<table border=\"1\" class=\"dataframe\">\n",
              "  <thead>\n",
              "    <tr style=\"text-align: right;\">\n",
              "      <th></th>\n",
              "      <th>postal_code</th>\n",
              "      <th>bluecar_activity</th>\n",
              "      <th>in_most_pop_station</th>\n",
              "    </tr>\n",
              "  </thead>\n",
              "  <tbody>\n",
              "    <tr>\n",
              "      <th>14</th>\n",
              "      <td>75015</td>\n",
              "      <td>-175</td>\n",
              "      <td>False</td>\n",
              "    </tr>\n",
              "  </tbody>\n",
              "</table>\n",
              "</div>"
            ],
            "text/plain": [
              "   postal_code  bluecar_activity in_most_pop_station\n",
              "14       75015              -175               False"
            ]
          },
          "metadata": {
            "tags": []
          },
          "execution_count": 44
        }
      ]
    },
    {
      "cell_type": "markdown",
      "metadata": {
        "id": "nq_I-JD3EYrt"
      },
      "source": [
        "b. At the most popular picking hour"
      ]
    },
    {
      "cell_type": "code",
      "metadata": {
        "colab": {
          "base_uri": "https://localhost:8080/",
          "height": 78
        },
        "id": "Fq_UtDpsNXns",
        "outputId": "d5ca33ef-2a80-432e-89a2-5a03e05e8752"
      },
      "source": [
        "#check if the most popular postal code at the most popular picking hour is in the most popular station at the most popular picking hour\r\n",
        "poppcode_pophour.assign(in_popstation_pophour=poppcode_pophour.postal_code.isin(popstation_pophour.postal_code).astype(str))\r\n"
      ],
      "execution_count": 45,
      "outputs": [
        {
          "output_type": "execute_result",
          "data": {
            "text/html": [
              "<div>\n",
              "<style scoped>\n",
              "    .dataframe tbody tr th:only-of-type {\n",
              "        vertical-align: middle;\n",
              "    }\n",
              "\n",
              "    .dataframe tbody tr th {\n",
              "        vertical-align: top;\n",
              "    }\n",
              "\n",
              "    .dataframe thead th {\n",
              "        text-align: right;\n",
              "    }\n",
              "</style>\n",
              "<table border=\"1\" class=\"dataframe\">\n",
              "  <thead>\n",
              "    <tr style=\"text-align: right;\">\n",
              "      <th></th>\n",
              "      <th>postal_code</th>\n",
              "      <th>bluecar_activity</th>\n",
              "      <th>in_popstation_pophour</th>\n",
              "    </tr>\n",
              "  </thead>\n",
              "  <tbody>\n",
              "    <tr>\n",
              "      <th>6</th>\n",
              "      <td>75013</td>\n",
              "      <td>-17</td>\n",
              "      <td>True</td>\n",
              "    </tr>\n",
              "  </tbody>\n",
              "</table>\n",
              "</div>"
            ],
            "text/plain": [
              "  postal_code  bluecar_activity in_popstation_pophour\n",
              "6       75013               -17                  True"
            ]
          },
          "metadata": {
            "tags": []
          },
          "execution_count": 45
        }
      ]
    },
    {
      "cell_type": "markdown",
      "metadata": {
        "id": "RDa6mruq_BpB"
      },
      "source": [
        "###Question six"
      ]
    },
    {
      "cell_type": "markdown",
      "metadata": {
        "id": "hKv-S2kNMs65"
      },
      "source": [
        "What is the average number of bluecar pick ups per day in the country?"
      ]
    },
    {
      "cell_type": "code",
      "metadata": {
        "colab": {
          "base_uri": "https://localhost:8080/"
        },
        "id": "ejbsRchC_AiL",
        "outputId": "a1bf27a0-91b4-40f2-bb57-f70def3c8907"
      },
      "source": [
        "#find the sum of pickups for the 9 days in the country\r\n",
        "pick_total = autolib.loc[(autolib['bluecar_activity'] < 0), 'bluecar_activity'].sum()\r\n",
        "\r\n",
        "#calculate the average number of pick ups per day   \r\n",
        "avg_pick_day = ((pick_total/days_number)*-1).round(0)\r\n",
        "\r\n",
        "#display average number of pick ups per day \r\n",
        "print(\"The average number of pick ups per day is \"+str(avg_pick_day)) "
      ],
      "execution_count": 46,
      "outputs": [
        {
          "output_type": "stream",
          "text": [
            "The average number of pick ups per day is 328.0\n"
          ],
          "name": "stdout"
        }
      ]
    },
    {
      "cell_type": "markdown",
      "metadata": {
        "id": "bnl86iNpHqKY"
      },
      "source": [
        "###Question seven"
      ]
    },
    {
      "cell_type": "markdown",
      "metadata": {
        "id": "eg7gpYNrHxdI"
      },
      "source": [
        "Do the results change if we consider utilib and utilib 1.4?"
      ]
    },
    {
      "cell_type": "markdown",
      "metadata": {
        "id": "fQbt0qihID-r"
      },
      "source": [
        "a. Most popular hour of the day for picking up utilibs in the country"
      ]
    },
    {
      "cell_type": "code",
      "metadata": {
        "colab": {
          "base_uri": "https://localhost:8080/"
        },
        "id": "JjIQpCl1IQ8n",
        "outputId": "0b894f72-1fda-4411-e712-82d29f33927b"
      },
      "source": [
        "#specify the areas of interest and their conditions then group the dataframe by hour and find the sum of the utilib_activity then convert to dataframe\r\n",
        "pick_hour_u1 = autolib[(autolib.utilib_activity < 0)].groupby('hour')['utilib_activity'].sum().reset_index()\r\n",
        "\r\n",
        "#find records with the minimum value of utilib_activity\r\n",
        "most_pick_hour_u1 = pick_hour_u1[pick_hour_u1['utilib_activity']==pick_hour_u1['utilib_activity'].min()]\r\n",
        "\r\n",
        "#display the hour with the minimum value of utilib_activity\r\n",
        "print(most_pick_hour_u1)"
      ],
      "execution_count": 51,
      "outputs": [
        {
          "output_type": "stream",
          "text": [
            "    hour  utilib_activity\n",
            "23    23              -14\n"
          ],
          "name": "stdout"
        }
      ]
    },
    {
      "cell_type": "markdown",
      "metadata": {
        "id": "e7rWvMLgJHVC"
      },
      "source": [
        "b. Average number of utilibs picked up per day in the country "
      ]
    },
    {
      "cell_type": "code",
      "metadata": {
        "colab": {
          "base_uri": "https://localhost:8080/"
        },
        "id": "flGWYYGuJRqc",
        "outputId": "d9e99e8f-8673-489d-f88d-835f9104ca83"
      },
      "source": [
        "#find the sum of pickups for the 9 days in the country\r\n",
        "pick_totalu1 = autolib.loc[(autolib['utilib_activity'] < 0), 'utilib_activity'].sum()\r\n",
        "\r\n",
        "#calculate the average number of pick ups per day   \r\n",
        "avg_pick_dayu1 = ((pick_totalu1/days_number)*-1).round(0)\r\n",
        "\r\n",
        "#display average number of pick ups per day \r\n",
        "print(\"The average number of pick ups per day is \"+str(avg_pick_dayu1)) "
      ],
      "execution_count": 49,
      "outputs": [
        {
          "output_type": "stream",
          "text": [
            "The average number of pick ups per day is 21.0\n"
          ],
          "name": "stdout"
        }
      ]
    },
    {
      "cell_type": "markdown",
      "metadata": {
        "id": "25X2aBjxTjvM"
      },
      "source": [
        "c. Most popular station for picking up utilib in the country"
      ]
    },
    {
      "cell_type": "code",
      "metadata": {
        "colab": {
          "base_uri": "https://localhost:8080/"
        },
        "id": "1S8jFmBzTiXr",
        "outputId": "e80cf793-ef6b-4ce3-ddde-682c7c0a9719"
      },
      "source": [
        "#specify the areas of interest and their conditions then group the dataframe by station and find the sum of the utilib_activity then convert to dataframe\r\n",
        "pop_stationu1 = autolib[(autolib.utilib_activity < 0)].groupby(['station'])['utilib_activity'].sum().reset_index()\r\n",
        "\r\n",
        "#find records in which the sum of utilib_activity is minimum\r\n",
        "most_pop_stationu1 = pop_stationu1[pop_stationu1['utilib_activity']==pop_stationu1['utilib_activity'].min()]\r\n",
        "\r\n",
        "#display records with the minimum value of utilib_activity\r\n",
        "print(most_pop_stationu1)"
      ],
      "execution_count": 57,
      "outputs": [
        {
          "output_type": "stream",
          "text": [
            "             station  utilib_activity\n",
            "128  54 RUE HERICART               -3\n"
          ],
          "name": "stdout"
        }
      ]
    },
    {
      "cell_type": "markdown",
      "metadata": {
        "id": "iQ3ufGWyJ1Jt"
      },
      "source": [
        "d. Most popular hour for picking up utilib 1.4 in the country"
      ]
    },
    {
      "cell_type": "code",
      "metadata": {
        "colab": {
          "base_uri": "https://localhost:8080/"
        },
        "id": "pcMbFCyhKlTJ",
        "outputId": "522a743e-12ee-4193-deb0-d5fb1168dd09"
      },
      "source": [
        "#specify the areas of interest and their conditions then group the dataframe by hour and find the sum of the utilib_1_4_activity then convert to dataframe\r\n",
        "pick_hour_u2 = autolib[(autolib.utilib_1_4_activity < 0)].groupby('hour')['utilib_1_4_activity'].sum().reset_index()\r\n",
        "\r\n",
        "#find records with the minimum value of utilib_1_4_activity\r\n",
        "most_pick_hour_u2 = pick_hour_u2[pick_hour_u2['utilib_1_4_activity']==pick_hour_u2['utilib_1_4_activity'].min()]\r\n",
        "\r\n",
        "#display the hour with the minimum value of utilib_1_4_activity\r\n",
        "print(most_pick_hour_u2)"
      ],
      "execution_count": 53,
      "outputs": [
        {
          "output_type": "stream",
          "text": [
            "    hour  utilib_1_4_activity\n",
            "11    11                  -24\n",
            "18    18                  -24\n"
          ],
          "name": "stdout"
        }
      ]
    },
    {
      "cell_type": "markdown",
      "metadata": {
        "id": "O5rEjBRmLwcc"
      },
      "source": [
        "e. Average number of utilib 1.4s picked up per day in the country"
      ]
    },
    {
      "cell_type": "code",
      "metadata": {
        "colab": {
          "base_uri": "https://localhost:8080/"
        },
        "id": "rC3gnSYLLvrc",
        "outputId": "634653da-2b5c-4bfb-9a64-08a2067cea3c"
      },
      "source": [
        "#find the sum of pickups for the 9 days in the country\r\n",
        "pick_totalu2 = autolib.loc[(autolib['utilib_1_4_activity'] < 0), 'utilib_1_4_activity'].sum()\r\n",
        "\r\n",
        "#calculate the average number of pick ups per day   \r\n",
        "avg_pick_dayu2 = ((pick_totalu2/days_number)*-1).round(0)\r\n",
        "\r\n",
        "#display average number of pick ups per day \r\n",
        "print(\"The average number of pick ups per day is \"+str(avg_pick_dayu2)) "
      ],
      "execution_count": 54,
      "outputs": [
        {
          "output_type": "stream",
          "text": [
            "The average number of pick ups per day is 42.0\n"
          ],
          "name": "stdout"
        }
      ]
    },
    {
      "cell_type": "markdown",
      "metadata": {
        "id": "ooW84_jMUi0R"
      },
      "source": [
        "f. Most popular station for picking up utilib 1.4"
      ]
    },
    {
      "cell_type": "code",
      "metadata": {
        "colab": {
          "base_uri": "https://localhost:8080/"
        },
        "id": "kAXObW2tTdzT",
        "outputId": "b5c87bc5-4a78-4a3a-e873-041b1103acd3"
      },
      "source": [
        "#specify the areas of interest and their conditions then group the dataframe by station and find the sum of the utilib_1_4_activity then convert to dataframe\r\n",
        "pop_stationu2 = autolib[(autolib.utilib_1_4_activity < 0)].groupby(['station'])['utilib_1_4_activity'].sum().reset_index()\r\n",
        "\r\n",
        "#find records in which the sum of utilib_1_4_activity is minimum\r\n",
        "most_pop_stationu2 = pop_stationu2[pop_stationu2['utilib_1_4_activity']==pop_stationu2['utilib_1_4_activity'].min()]\r\n",
        "\r\n",
        "#display records with the minimum value of utilib_1_4_activity\r\n",
        "print(most_pop_stationu2)"
      ],
      "execution_count": 58,
      "outputs": [
        {
          "output_type": "stream",
          "text": [
            "           station  utilib_1_4_activity\n",
            "56  123 GRANDE RUE                   -4\n"
          ],
          "name": "stdout"
        }
      ]
    }
  ]
}